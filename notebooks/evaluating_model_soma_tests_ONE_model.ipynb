{
 "cells": [
  {
   "cell_type": "markdown",
   "id": "9a26ad99-2681-4813-87bf-10d2b0256fbb",
   "metadata": {},
   "source": [
    "### Running all model evaluation nodebooks"
   ]
  },
  {
   "cell_type": "code",
   "execution_count": 2,
   "id": "c3a8e08c",
   "metadata": {},
   "outputs": [
    {
     "name": "stdout",
     "output_type": "stream",
     "text": [
      "\n",
      "Evaluating models with MOUSE data\n",
      "\n",
      "Chiovini_2014.ipynb\n"
     ]
    },
    {
     "name": "stderr",
     "output_type": "stream",
     "text": [
      "Executing: 100%|██████████████████████████████| 10/10 [00:59<00:00,  5.92s/cell]\n"
     ]
    },
    {
     "name": "stdout",
     "output_type": "stream",
     "text": [
      "\n",
      "Evaluating models with RAT data\n",
      "\n",
      "Chiovini_2014.ipynb\n"
     ]
    },
    {
     "name": "stderr",
     "output_type": "stream",
     "text": [
      "Executing: 100%|██████████████████████████████| 10/10 [01:02<00:00,  6.23s/cell]\n"
     ]
    },
    {
     "data": {
      "text/plain": [
       "'\\nOriginally used path parameters:\\n'"
      ]
     },
     "execution_count": 2,
     "metadata": {},
     "output_type": "execute_result"
    }
   ],
   "source": [
    "import sys\n",
    "import os\n",
    "import papermill as pm\n",
    "\n",
    "parameters_MOUSE_expdata = dict(results_folder = '../validation_results_MOUSE/', \n",
    "                                target_data = '../validation_config/features_for_validation/standard_features_for_validation_MOUSE_FINAL.json',\n",
    "                                stim_data = '../validation_config/stim_for_validation/stim_for_validation_MOUSE_FINAL.json')\n",
    "parameters_RAT_expdata = dict(results_folder = '../validation_results_RAT/', \n",
    "                                target_data = '../validation_config/features_for_validation/standard_features_for_validation_RAT_FINAL.json',\n",
    "                                stim_data = '../validation_config/stim_for_validation/stim_for_validation_RAT_FINAL.json')\n",
    "\n",
    "\n",
    "models_evaluation_notebooks = './soma_test/'\n",
    "models = sorted(os.listdir(models_evaluation_notebooks))\n",
    "\n",
    "# Evaluating on MOUSE experimental standard features\n",
    "print('\\nEvaluating models with MOUSE data\\n')\n",
    "for notebook in models:\n",
    "    if notebook.endswith('Chiovini_2014.ipynb') and not notebook.startswith('TEST'):\n",
    "        print(notebook)\n",
    "        notebook_path = os.path.join(models_evaluation_notebooks, notebook)\n",
    "        pm.execute_notebook(notebook_path, notebook_path, parameters=parameters_MOUSE_expdata);\n",
    "\n",
    "\n",
    "\n",
    "# Evaluating on RAT experimental standard features\n",
    "print('\\nEvaluating models with RAT data\\n')\n",
    "for notebook in models:\n",
    "    if notebook.endswith('Chiovini_2014.ipynb') and not notebook.startswith('TEST'):\n",
    "        print(notebook)\n",
    "        notebook_path = os.path.join(models_evaluation_notebooks, notebook)\n",
    "        pm.execute_notebook(notebook_path, notebook_path, parameters=parameters_RAT_expdata);\n",
    "\n",
    "'''\n",
    "Originally used path parameters:\n",
    "\n",
    "parameters_MOUSE_expdata = dict(results_folder = '/home/szabobogi/hippounit_standard_features/validation_results_MOUSE/', \n",
    "                                target_data = '/home/szabobogi/BluePyEfe_standard_features/BluePyEfe/'\n",
    "                                'FINAL_PV_PTI_data/features_for_validation/standard_features_for_validation_MOUSE_FINAL.json',\n",
    "                                stim_data = '/home/szabobogi/BluePyEfe_standard_features/BluePyEfe/'\n",
    "                                'FINAL_PV_PTI_data/stim_for_validation/stim_for_validation_MOUSE_FINAL.json')\n",
    "parameters_RAT_expdata = dict(results_folder = '/home/szabobogi/hippounit_standard_features/validation_results_RAT/', \n",
    "                                target_data = '/home/szabobogi/BluePyEfe_standard_features/BluePyEfe/'\n",
    "                                'FINAL_PV_PTI_data/features_for_validation/standard_features_for_validation_RAT_FINAL.json',\n",
    "                                stim_data = '/home/szabobogi/BluePyEfe_standard_features/BluePyEfe/'\n",
    "                                'FINAL_PV_PTI_data/stim_for_validation/stim_for_validation_RAT_FINAL.json')\n",
    "\n",
    "\n",
    "models_evaluation_notebooks = '/home/szabobogi/hippounit_standard_features/notebooks/soma_test/'\n",
    "\n",
    "'''\n"
   ]
  },
  {
   "cell_type": "code",
   "execution_count": null,
   "id": "faf921c9-bebe-464d-8120-b5236868f782",
   "metadata": {},
   "outputs": [],
   "source": []
  },
  {
   "cell_type": "code",
   "execution_count": null,
   "id": "48d4d9c8-3c65-4456-a213-8edb28bd887d",
   "metadata": {},
   "outputs": [],
   "source": []
  }
 ],
 "metadata": {
  "kernelspec": {
   "display_name": "Python 3 (ipykernel)",
   "language": "python",
   "name": "python3"
  },
  "language_info": {
   "codemirror_mode": {
    "name": "ipython",
    "version": 3
   },
   "file_extension": ".py",
   "mimetype": "text/x-python",
   "name": "python",
   "nbconvert_exporter": "python",
   "pygments_lexer": "ipython3",
   "version": "3.8.10"
  }
 },
 "nbformat": 4,
 "nbformat_minor": 5
}
