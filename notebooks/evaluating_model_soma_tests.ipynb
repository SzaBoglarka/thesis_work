{
 "cells": [
  {
   "cell_type": "markdown",
   "id": "9a26ad99-2681-4813-87bf-10d2b0256fbb",
   "metadata": {},
   "source": [
    "### Running all model evaluation nodebooks"
   ]
  },
  {
   "cell_type": "code",
   "execution_count": 1,
   "id": "c3a8e08c",
   "metadata": {},
   "outputs": [
    {
     "name": "stderr",
     "output_type": "stream",
     "text": [
      "/home/szabobogi/hippounit_standard_features/venv/lib/python3.8/site-packages/tqdm/auto.py:21: TqdmWarning: IProgress not found. Please update jupyter and ipywidgets. See https://ipywidgets.readthedocs.io/en/stable/user_install.html\n",
      "  from .autonotebook import tqdm as notebook_tqdm\n"
     ]
    },
    {
     "name": "stdout",
     "output_type": "stream",
     "text": [
      "\n",
      "Evaluating models with MOUSE data\n",
      "\n",
      "Bezaire_2016.ipynb\n"
     ]
    },
    {
     "name": "stderr",
     "output_type": "stream",
     "text": [
      "Executing: 100%|██████████████████████████████| 10/10 [00:52<00:00,  5.26s/cell]\n"
     ]
    },
    {
     "name": "stdout",
     "output_type": "stream",
     "text": [
      "Chiovini_2014.ipynb\n"
     ]
    },
    {
     "name": "stderr",
     "output_type": "stream",
     "text": [
      "Executing: 100%|██████████████████████████████| 10/10 [00:51<00:00,  5.12s/cell]\n"
     ]
    },
    {
     "name": "stdout",
     "output_type": "stream",
     "text": [
      "Cuts&Poir_2015.ipynb\n"
     ]
    },
    {
     "name": "stderr",
     "output_type": "stream",
     "text": [
      "Executing: 100%|██████████████████████████████| 10/10 [00:53<00:00,  5.34s/cell]\n"
     ]
    },
    {
     "name": "stdout",
     "output_type": "stream",
     "text": [
      "Ferr&Asco_2015.ipynb\n"
     ]
    },
    {
     "name": "stderr",
     "output_type": "stream",
     "text": [
      "Executing: 100%|██████████████████████████████| 10/10 [01:00<00:00,  6.05s/cell]\n"
     ]
    },
    {
     "name": "stdout",
     "output_type": "stream",
     "text": [
      "Hu(rb)_2018.ipynb\n"
     ]
    },
    {
     "name": "stderr",
     "output_type": "stream",
     "text": [
      "Executing: 100%|██████████████████████████████| 10/10 [00:47<00:00,  4.71s/cell]\n"
     ]
    },
    {
     "name": "stdout",
     "output_type": "stream",
     "text": [
      "Hu(vd)_2018.ipynb\n"
     ]
    },
    {
     "name": "stderr",
     "output_type": "stream",
     "text": [
      "Executing: 100%|██████████████████████████████| 10/10 [00:46<00:00,  4.61s/cell]\n"
     ]
    },
    {
     "name": "stdout",
     "output_type": "stream",
     "text": [
      "Hummos_2014.ipynb\n"
     ]
    },
    {
     "name": "stderr",
     "output_type": "stream",
     "text": [
      "Executing: 100%|██████████████████████████████| 10/10 [00:46<00:00,  4.67s/cell]\n"
     ]
    },
    {
     "name": "stdout",
     "output_type": "stream",
     "text": [
      "Lee_2014.ipynb\n"
     ]
    },
    {
     "name": "stderr",
     "output_type": "stream",
     "text": [
      "Executing: 100%|██████████████████████████████| 10/10 [00:51<00:00,  5.19s/cell]\n"
     ]
    },
    {
     "name": "stdout",
     "output_type": "stream",
     "text": [
      "Migliore_2018.ipynb\n"
     ]
    },
    {
     "name": "stderr",
     "output_type": "stream",
     "text": [
      "Executing: 100%|██████████████████████████████| 10/10 [02:18<00:00, 13.81s/cell]\n"
     ]
    },
    {
     "name": "stdout",
     "output_type": "stream",
     "text": [
      "Neymotin_2011.ipynb\n"
     ]
    },
    {
     "name": "stderr",
     "output_type": "stream",
     "text": [
      "Executing: 100%|██████████████████████████████| 10/10 [00:45<00:00,  4.54s/cell]\n"
     ]
    },
    {
     "name": "stdout",
     "output_type": "stream",
     "text": [
      "Neymotin_2013.ipynb\n"
     ]
    },
    {
     "name": "stderr",
     "output_type": "stream",
     "text": [
      "Executing: 100%|██████████████████████████████| 10/10 [00:46<00:00,  4.63s/cell]\n"
     ]
    },
    {
     "name": "stdout",
     "output_type": "stream",
     "text": [
      "Saraga_2006_cels_34.ipynb\n"
     ]
    },
    {
     "name": "stderr",
     "output_type": "stream",
     "text": [
      "Executing: 100%|██████████████████████████████| 11/11 [00:06<00:00,  1.66cell/s]\n"
     ]
    },
    {
     "name": "stdout",
     "output_type": "stream",
     "text": [
      "Saraga_2006_cels_6.3.ipynb\n"
     ]
    },
    {
     "name": "stderr",
     "output_type": "stream",
     "text": [
      "Executing: 100%|██████████████████████████████| 10/10 [00:46<00:00,  4.61s/cell]\n"
     ]
    },
    {
     "name": "stdout",
     "output_type": "stream",
     "text": [
      "Saudargiene_2015.ipynb\n"
     ]
    },
    {
     "name": "stderr",
     "output_type": "stream",
     "text": [
      "Executing: 100%|██████████████████████████████| 10/10 [00:54<00:00,  5.45s/cell]\n"
     ]
    },
    {
     "name": "stdout",
     "output_type": "stream",
     "text": [
      "Sherif_2020.ipynb\n"
     ]
    },
    {
     "name": "stderr",
     "output_type": "stream",
     "text": [
      "Executing: 100%|██████████████████████████████| 10/10 [00:47<00:00,  4.72s/cell]\n"
     ]
    },
    {
     "name": "stdout",
     "output_type": "stream",
     "text": [
      "Stacey(rb)_2009.ipynb\n"
     ]
    },
    {
     "name": "stderr",
     "output_type": "stream",
     "text": [
      "Executing: 100%|██████████████████████████████| 10/10 [00:46<00:00,  4.68s/cell]\n"
     ]
    },
    {
     "name": "stdout",
     "output_type": "stream",
     "text": [
      "Stacey(vd)_2009.ipynb\n"
     ]
    },
    {
     "name": "stderr",
     "output_type": "stream",
     "text": [
      "Executing: 100%|██████████████████████████████| 10/10 [00:46<00:00,  4.60s/cell]\n"
     ]
    },
    {
     "name": "stdout",
     "output_type": "stream",
     "text": [
      "Turi_2019.ipynb\n"
     ]
    },
    {
     "name": "stderr",
     "output_type": "stream",
     "text": [
      "Executing: 100%|██████████████████████████████| 10/10 [00:53<00:00,  5.39s/cell]\n"
     ]
    },
    {
     "name": "stdout",
     "output_type": "stream",
     "text": [
      "Tzilivaki1_2019.ipynb\n"
     ]
    },
    {
     "name": "stderr",
     "output_type": "stream",
     "text": [
      "Executing: 100%|██████████████████████████████| 10/10 [00:06<00:00,  1.53cell/s]\n"
     ]
    },
    {
     "name": "stdout",
     "output_type": "stream",
     "text": [
      "Tzilivaki1_2019_0.1_dt.ipynb\n"
     ]
    },
    {
     "name": "stderr",
     "output_type": "stream",
     "text": [
      "Executing: 100%|██████████████████████████████| 10/10 [03:11<00:00, 19.13s/cell]\n"
     ]
    },
    {
     "name": "stdout",
     "output_type": "stream",
     "text": [
      "Tzilivaki2_2019.ipynb\n"
     ]
    },
    {
     "name": "stderr",
     "output_type": "stream",
     "text": [
      "Executing: 100%|██████████████████████████████| 10/10 [08:46<00:00, 52.65s/cell]\n"
     ]
    },
    {
     "name": "stdout",
     "output_type": "stream",
     "text": [
      "Tzilivaki2_2019_0.1_dt.ipynb\n"
     ]
    },
    {
     "name": "stderr",
     "output_type": "stream",
     "text": [
      "Executing: 100%|██████████████████████████████| 10/10 [02:32<00:00, 15.28s/cell]\n"
     ]
    },
    {
     "name": "stdout",
     "output_type": "stream",
     "text": [
      "Tzilivaki3_2019.ipynb\n"
     ]
    },
    {
     "name": "stderr",
     "output_type": "stream",
     "text": [
      "Executing: 100%|██████████████████████████████| 10/10 [09:43<00:00, 58.34s/cell]\n"
     ]
    },
    {
     "name": "stdout",
     "output_type": "stream",
     "text": [
      "Tzilivaki3_2019_0.1_dt.ipynb\n"
     ]
    },
    {
     "name": "stderr",
     "output_type": "stream",
     "text": [
      "Executing: 100%|██████████████████████████████| 10/10 [02:53<00:00, 17.36s/cell]\n"
     ]
    },
    {
     "name": "stdout",
     "output_type": "stream",
     "text": [
      "Tzilivaki4_2019.ipynb\n"
     ]
    },
    {
     "name": "stderr",
     "output_type": "stream",
     "text": [
      "Executing: 100%|██████████████████████████████| 10/10 [11:45<00:00, 70.58s/cell]\n"
     ]
    },
    {
     "name": "stdout",
     "output_type": "stream",
     "text": [
      "Tzilivaki4_2019_0.1_dt.ipynb\n"
     ]
    },
    {
     "name": "stderr",
     "output_type": "stream",
     "text": [
      "Executing: 100%|██████████████████████████████| 10/10 [03:01<00:00, 18.13s/cell]\n"
     ]
    },
    {
     "name": "stdout",
     "output_type": "stream",
     "text": [
      "Tzilivaki5_2019.ipynb\n"
     ]
    },
    {
     "name": "stderr",
     "output_type": "stream",
     "text": [
      "Executing: 100%|██████████████████████████████| 10/10 [08:36<00:00, 51.66s/cell]\n"
     ]
    },
    {
     "name": "stdout",
     "output_type": "stream",
     "text": [
      "Tzilivaki5_2019_0.1_dt.ipynb\n"
     ]
    },
    {
     "name": "stderr",
     "output_type": "stream",
     "text": [
      "Executing: 100%|██████████████████████████████| 10/10 [02:36<00:00, 15.63s/cell]\n"
     ]
    },
    {
     "name": "stdout",
     "output_type": "stream",
     "text": [
      "Vladimirov_2013.ipynb\n"
     ]
    },
    {
     "name": "stderr",
     "output_type": "stream",
     "text": [
      "Executing: 100%|██████████████████████████████| 10/10 [00:45<00:00,  4.55s/cell]\n"
     ]
    },
    {
     "name": "stdout",
     "output_type": "stream",
     "text": [
      "\n",
      "Evaluating models with RAT data\n",
      "\n",
      "Bezaire_2016.ipynb\n"
     ]
    },
    {
     "name": "stderr",
     "output_type": "stream",
     "text": [
      "Executing: 100%|██████████████████████████████| 10/10 [00:56<00:00,  5.68s/cell]\n"
     ]
    },
    {
     "name": "stdout",
     "output_type": "stream",
     "text": [
      "Chiovini_2014.ipynb\n"
     ]
    },
    {
     "name": "stderr",
     "output_type": "stream",
     "text": [
      "Executing: 100%|██████████████████████████████| 10/10 [00:58<00:00,  5.89s/cell]\n"
     ]
    },
    {
     "name": "stdout",
     "output_type": "stream",
     "text": [
      "Cuts&Poir_2015.ipynb\n"
     ]
    },
    {
     "name": "stderr",
     "output_type": "stream",
     "text": [
      "Executing: 100%|██████████████████████████████| 10/10 [01:02<00:00,  6.27s/cell]\n"
     ]
    },
    {
     "name": "stdout",
     "output_type": "stream",
     "text": [
      "Ferr&Asco_2015.ipynb\n"
     ]
    },
    {
     "name": "stderr",
     "output_type": "stream",
     "text": [
      "Executing: 100%|██████████████████████████████| 10/10 [01:03<00:00,  6.31s/cell]\n"
     ]
    },
    {
     "name": "stdout",
     "output_type": "stream",
     "text": [
      "Hu(rb)_2018.ipynb\n"
     ]
    },
    {
     "name": "stderr",
     "output_type": "stream",
     "text": [
      "Executing: 100%|██████████████████████████████| 10/10 [00:49<00:00,  4.95s/cell]\n"
     ]
    },
    {
     "name": "stdout",
     "output_type": "stream",
     "text": [
      "Hu(vd)_2018.ipynb\n"
     ]
    },
    {
     "name": "stderr",
     "output_type": "stream",
     "text": [
      "Executing: 100%|██████████████████████████████| 10/10 [00:49<00:00,  4.95s/cell]\n"
     ]
    },
    {
     "name": "stdout",
     "output_type": "stream",
     "text": [
      "Hummos_2014.ipynb\n"
     ]
    },
    {
     "name": "stderr",
     "output_type": "stream",
     "text": [
      "Executing: 100%|██████████████████████████████| 10/10 [00:51<00:00,  5.18s/cell]\n"
     ]
    },
    {
     "name": "stdout",
     "output_type": "stream",
     "text": [
      "Lee_2014.ipynb\n"
     ]
    },
    {
     "name": "stderr",
     "output_type": "stream",
     "text": [
      "Executing: 100%|██████████████████████████████| 10/10 [00:55<00:00,  5.59s/cell]\n"
     ]
    },
    {
     "name": "stdout",
     "output_type": "stream",
     "text": [
      "Migliore_2018.ipynb\n"
     ]
    },
    {
     "name": "stderr",
     "output_type": "stream",
     "text": [
      "Executing: 100%|██████████████████████████████| 10/10 [02:36<00:00, 15.61s/cell]\n"
     ]
    },
    {
     "name": "stdout",
     "output_type": "stream",
     "text": [
      "Neymotin_2011.ipynb\n"
     ]
    },
    {
     "name": "stderr",
     "output_type": "stream",
     "text": [
      "Executing: 100%|██████████████████████████████| 10/10 [00:46<00:00,  4.68s/cell]\n"
     ]
    },
    {
     "name": "stdout",
     "output_type": "stream",
     "text": [
      "Neymotin_2013.ipynb\n"
     ]
    },
    {
     "name": "stderr",
     "output_type": "stream",
     "text": [
      "Executing: 100%|██████████████████████████████| 10/10 [00:50<00:00,  5.06s/cell]\n"
     ]
    },
    {
     "name": "stdout",
     "output_type": "stream",
     "text": [
      "Saraga_2006_cels_34.ipynb\n"
     ]
    },
    {
     "name": "stderr",
     "output_type": "stream",
     "text": [
      "Executing: 100%|██████████████████████████████| 11/11 [00:07<00:00,  1.48cell/s]\n"
     ]
    },
    {
     "name": "stdout",
     "output_type": "stream",
     "text": [
      "Saraga_2006_cels_6.3.ipynb\n"
     ]
    },
    {
     "name": "stderr",
     "output_type": "stream",
     "text": [
      "Executing: 100%|██████████████████████████████| 10/10 [00:51<00:00,  5.15s/cell]\n"
     ]
    },
    {
     "name": "stdout",
     "output_type": "stream",
     "text": [
      "Saudargiene_2015.ipynb\n"
     ]
    },
    {
     "name": "stderr",
     "output_type": "stream",
     "text": [
      "Executing: 100%|██████████████████████████████| 10/10 [01:01<00:00,  6.19s/cell]\n"
     ]
    },
    {
     "name": "stdout",
     "output_type": "stream",
     "text": [
      "Sherif_2020.ipynb\n"
     ]
    },
    {
     "name": "stderr",
     "output_type": "stream",
     "text": [
      "Executing: 100%|██████████████████████████████| 10/10 [00:50<00:00,  5.04s/cell]\n"
     ]
    },
    {
     "name": "stdout",
     "output_type": "stream",
     "text": [
      "Stacey(rb)_2009.ipynb\n"
     ]
    },
    {
     "name": "stderr",
     "output_type": "stream",
     "text": [
      "Executing: 100%|██████████████████████████████| 10/10 [00:50<00:00,  5.08s/cell]\n"
     ]
    },
    {
     "name": "stdout",
     "output_type": "stream",
     "text": [
      "Stacey(vd)_2009.ipynb\n"
     ]
    },
    {
     "name": "stderr",
     "output_type": "stream",
     "text": [
      "Executing: 100%|██████████████████████████████| 10/10 [00:47<00:00,  4.70s/cell]\n"
     ]
    },
    {
     "name": "stdout",
     "output_type": "stream",
     "text": [
      "Turi_2019.ipynb\n"
     ]
    },
    {
     "name": "stderr",
     "output_type": "stream",
     "text": [
      "Executing: 100%|██████████████████████████████| 10/10 [00:56<00:00,  5.61s/cell]\n"
     ]
    },
    {
     "name": "stdout",
     "output_type": "stream",
     "text": [
      "Tzilivaki1_2019.ipynb\n"
     ]
    },
    {
     "name": "stderr",
     "output_type": "stream",
     "text": [
      "Executing: 100%|██████████████████████████████| 10/10 [00:04<00:00,  2.38cell/s]\n"
     ]
    },
    {
     "name": "stdout",
     "output_type": "stream",
     "text": [
      "Tzilivaki1_2019_0.1_dt.ipynb\n"
     ]
    },
    {
     "name": "stderr",
     "output_type": "stream",
     "text": [
      "Executing: 100%|██████████████████████████████| 10/10 [03:32<00:00, 21.27s/cell]\n"
     ]
    },
    {
     "name": "stdout",
     "output_type": "stream",
     "text": [
      "Tzilivaki2_2019.ipynb\n"
     ]
    },
    {
     "name": "stderr",
     "output_type": "stream",
     "text": [
      "Executing: 100%|██████████████████████████████| 10/10 [10:23<00:00, 62.31s/cell]\n"
     ]
    },
    {
     "name": "stdout",
     "output_type": "stream",
     "text": [
      "Tzilivaki2_2019_0.1_dt.ipynb\n"
     ]
    },
    {
     "name": "stderr",
     "output_type": "stream",
     "text": [
      "Executing: 100%|██████████████████████████████| 10/10 [03:05<00:00, 18.58s/cell]\n"
     ]
    },
    {
     "name": "stdout",
     "output_type": "stream",
     "text": [
      "Tzilivaki3_2019.ipynb\n"
     ]
    },
    {
     "name": "stderr",
     "output_type": "stream",
     "text": [
      "Executing: 100%|██████████████████████████████| 10/10 [11:27<00:00, 68.72s/cell]\n"
     ]
    },
    {
     "name": "stdout",
     "output_type": "stream",
     "text": [
      "Tzilivaki3_2019_0.1_dt.ipynb\n"
     ]
    },
    {
     "name": "stderr",
     "output_type": "stream",
     "text": [
      "Executing: 100%|██████████████████████████████| 10/10 [02:41<00:00, 16.17s/cell]\n"
     ]
    },
    {
     "name": "stdout",
     "output_type": "stream",
     "text": [
      "Tzilivaki4_2019.ipynb\n"
     ]
    },
    {
     "name": "stderr",
     "output_type": "stream",
     "text": [
      "Executing: 100%|██████████████████████████████| 10/10 [14:25<00:00, 86.51s/cell]\n"
     ]
    },
    {
     "name": "stdout",
     "output_type": "stream",
     "text": [
      "Tzilivaki4_2019_0.1_dt.ipynb\n"
     ]
    },
    {
     "name": "stderr",
     "output_type": "stream",
     "text": [
      "Executing: 100%|██████████████████████████████| 10/10 [03:43<00:00, 22.37s/cell]\n"
     ]
    },
    {
     "name": "stdout",
     "output_type": "stream",
     "text": [
      "Tzilivaki5_2019.ipynb\n"
     ]
    },
    {
     "name": "stderr",
     "output_type": "stream",
     "text": [
      "Executing: 100%|██████████████████████████████| 10/10 [10:52<00:00, 65.20s/cell]\n"
     ]
    },
    {
     "name": "stdout",
     "output_type": "stream",
     "text": [
      "Tzilivaki5_2019_0.1_dt.ipynb\n"
     ]
    },
    {
     "name": "stderr",
     "output_type": "stream",
     "text": [
      "Executing: 100%|██████████████████████████████| 10/10 [02:55<00:00, 17.55s/cell]\n"
     ]
    },
    {
     "name": "stdout",
     "output_type": "stream",
     "text": [
      "Vladimirov_2013.ipynb\n"
     ]
    },
    {
     "name": "stderr",
     "output_type": "stream",
     "text": [
      "Executing: 100%|██████████████████████████████| 10/10 [00:52<00:00,  5.27s/cell]\n"
     ]
    }
   ],
   "source": [
    "import sys\n",
    "import os\n",
    "import papermill as pm\n",
    "\n",
    "parameters_MOUSE_expdata = dict(results_folder = '../validation_results_MOUSE/', \n",
    "                                target_data = '../validation_config/features_for_validation/standard_features_for_validation_MOUSE_FINAL.json',\n",
    "                                stim_data = '../validation_config/stim_for_validation/stim_for_validation_MOUSE_FINAL.json')\n",
    "parameters_RAT_expdata = dict(results_folder = '../validation_results_RAT/', \n",
    "                                target_data = '../validation_config/features_for_validation/standard_features_for_validation_RAT_FINAL.json',\n",
    "                                stim_data = '../validation_config/stim_for_validation/stim_for_validation_RAT_FINAL.json')\n",
    "\n",
    "\n",
    "models_evaluation_notebooks = './soma_test/'\n",
    "models = sorted(os.listdir(models_evaluation_notebooks))\n",
    "\n",
    "# Evaluating on MOUSE experimental standard features\n",
    "print('\\nEvaluating models with MOUSE data\\n')\n",
    "for notebook in models:\n",
    "    if notebook.endswith('.ipynb') and not notebook.startswith('TEST'):\n",
    "        print(notebook)\n",
    "        notebook_path = os.path.join(models_evaluation_notebooks, notebook)\n",
    "        pm.execute_notebook(notebook_path, notebook_path, parameters=parameters_MOUSE_expdata);\n",
    "\n",
    "\n",
    "# Evaluating on RAT experimental standard features\n",
    "print('\\nEvaluating models with RAT data\\n')\n",
    "for notebook in models:\n",
    "    if notebook.endswith('.ipynb') and not notebook.startswith('TEST'):\n",
    "        print(notebook)\n",
    "        notebook_path = os.path.join(models_evaluation_notebooks, notebook)\n",
    "        pm.execute_notebook(notebook_path, notebook_path, parameters=parameters_RAT_expdata);\n",
    "\n"
   ]
  },
  {
   "cell_type": "code",
   "execution_count": null,
   "id": "faf921c9-bebe-464d-8120-b5236868f782",
   "metadata": {},
   "outputs": [],
   "source": []
  }
 ],
 "metadata": {
  "kernelspec": {
   "display_name": "Python 3 (ipykernel)",
   "language": "python",
   "name": "python3"
  },
  "language_info": {
   "codemirror_mode": {
    "name": "ipython",
    "version": 3
   },
   "file_extension": ".py",
   "mimetype": "text/x-python",
   "name": "python",
   "nbconvert_exporter": "python",
   "pygments_lexer": "ipython3",
   "version": "3.8.10"
  }
 },
 "nbformat": 4,
 "nbformat_minor": 5
}
