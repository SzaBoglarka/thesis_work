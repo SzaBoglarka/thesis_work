{
 "cells": [
  {
   "cell_type": "markdown",
   "id": "9a26ad99-2681-4813-87bf-10d2b0256fbb",
   "metadata": {},
   "source": [
    "### Running all model evaluation nodebooks"
   ]
  },
  {
   "cell_type": "code",
   "execution_count": 2,
   "id": "c3a8e08c",
   "metadata": {},
   "outputs": [
    {
     "name": "stdout",
     "output_type": "stream",
     "text": [
      "\n",
      "Evaluating models with MOUSE data\n",
      "\n",
      "Bezaire_2016.ipynb\n"
     ]
    },
    {
     "name": "stderr",
     "output_type": "stream",
     "text": [
      "Executing: 100%|██████████████████████████████| 10/10 [00:52<00:00,  5.29s/cell]\n"
     ]
    },
    {
     "name": "stdout",
     "output_type": "stream",
     "text": [
      "Chiovini_2014.ipynb\n"
     ]
    },
    {
     "name": "stderr",
     "output_type": "stream",
     "text": [
      "Executing: 100%|██████████████████████████████| 10/10 [00:54<00:00,  5.48s/cell]\n"
     ]
    },
    {
     "name": "stdout",
     "output_type": "stream",
     "text": [
      "Cuts&Poir_2015.ipynb\n"
     ]
    },
    {
     "name": "stderr",
     "output_type": "stream",
     "text": [
      "Executing: 100%|██████████████████████████████| 10/10 [00:55<00:00,  5.55s/cell]\n"
     ]
    },
    {
     "name": "stdout",
     "output_type": "stream",
     "text": [
      "Ferr&Asco_2015.ipynb\n"
     ]
    },
    {
     "name": "stderr",
     "output_type": "stream",
     "text": [
      "Executing: 100%|██████████████████████████████| 10/10 [00:58<00:00,  5.87s/cell]\n"
     ]
    },
    {
     "name": "stdout",
     "output_type": "stream",
     "text": [
      "Hu(rb)_2018.ipynb\n"
     ]
    },
    {
     "name": "stderr",
     "output_type": "stream",
     "text": [
      "Executing: 100%|██████████████████████████████| 10/10 [00:42<00:00,  4.28s/cell]\n"
     ]
    },
    {
     "name": "stdout",
     "output_type": "stream",
     "text": [
      "Hu(vd)_2018.ipynb\n"
     ]
    },
    {
     "name": "stderr",
     "output_type": "stream",
     "text": [
      "Executing: 100%|██████████████████████████████| 10/10 [00:42<00:00,  4.25s/cell]\n"
     ]
    },
    {
     "name": "stdout",
     "output_type": "stream",
     "text": [
      "Hummos_2014.ipynb\n"
     ]
    },
    {
     "name": "stderr",
     "output_type": "stream",
     "text": [
      "Executing: 100%|██████████████████████████████| 10/10 [00:45<00:00,  4.51s/cell]\n"
     ]
    },
    {
     "name": "stdout",
     "output_type": "stream",
     "text": [
      "Lee_2014.ipynb\n"
     ]
    },
    {
     "name": "stderr",
     "output_type": "stream",
     "text": [
      "Executing: 100%|██████████████████████████████| 10/10 [00:49<00:00,  4.95s/cell]\n"
     ]
    },
    {
     "name": "stdout",
     "output_type": "stream",
     "text": [
      "Migliore_2018.ipynb\n"
     ]
    },
    {
     "name": "stderr",
     "output_type": "stream",
     "text": [
      "Executing: 100%|██████████████████████████████| 10/10 [02:15<00:00, 13.50s/cell]\n"
     ]
    },
    {
     "name": "stdout",
     "output_type": "stream",
     "text": [
      "Neymotin_2011.ipynb\n"
     ]
    },
    {
     "name": "stderr",
     "output_type": "stream",
     "text": [
      "Executing: 100%|██████████████████████████████| 10/10 [00:44<00:00,  4.41s/cell]\n"
     ]
    },
    {
     "name": "stdout",
     "output_type": "stream",
     "text": [
      "Neymotin_2013.ipynb\n"
     ]
    },
    {
     "name": "stderr",
     "output_type": "stream",
     "text": [
      "Executing: 100%|██████████████████████████████| 10/10 [00:44<00:00,  4.48s/cell]\n"
     ]
    },
    {
     "name": "stdout",
     "output_type": "stream",
     "text": [
      "Saraga_2006_cels_34.ipynb\n"
     ]
    },
    {
     "name": "stderr",
     "output_type": "stream",
     "text": [
      "Executing: 100%|██████████████████████████████| 11/11 [00:20<00:00,  1.89s/cell]\n"
     ]
    },
    {
     "name": "stdout",
     "output_type": "stream",
     "text": [
      "Saraga_2006_cels_6.3.ipynb\n"
     ]
    },
    {
     "name": "stderr",
     "output_type": "stream",
     "text": [
      "Executing: 100%|██████████████████████████████| 10/10 [00:46<00:00,  4.68s/cell]\n"
     ]
    },
    {
     "name": "stdout",
     "output_type": "stream",
     "text": [
      "Saudargiene_2015.ipynb\n"
     ]
    },
    {
     "name": "stderr",
     "output_type": "stream",
     "text": [
      "Executing: 100%|██████████████████████████████| 10/10 [00:53<00:00,  5.38s/cell]\n"
     ]
    },
    {
     "name": "stdout",
     "output_type": "stream",
     "text": [
      "Sherif_2020.ipynb\n"
     ]
    },
    {
     "name": "stderr",
     "output_type": "stream",
     "text": [
      "Executing: 100%|██████████████████████████████| 10/10 [00:44<00:00,  4.46s/cell]\n"
     ]
    },
    {
     "name": "stdout",
     "output_type": "stream",
     "text": [
      "Stacey(rb)_2009.ipynb\n"
     ]
    },
    {
     "name": "stderr",
     "output_type": "stream",
     "text": [
      "Executing: 100%|██████████████████████████████| 10/10 [00:41<00:00,  4.20s/cell]\n"
     ]
    },
    {
     "name": "stdout",
     "output_type": "stream",
     "text": [
      "Stacey(vd)_2009.ipynb\n"
     ]
    },
    {
     "name": "stderr",
     "output_type": "stream",
     "text": [
      "Executing: 100%|██████████████████████████████| 10/10 [00:43<00:00,  4.36s/cell]\n"
     ]
    },
    {
     "name": "stdout",
     "output_type": "stream",
     "text": [
      "Turi_2019.ipynb\n"
     ]
    },
    {
     "name": "stderr",
     "output_type": "stream",
     "text": [
      "Executing: 100%|██████████████████████████████| 10/10 [00:53<00:00,  5.39s/cell]\n"
     ]
    },
    {
     "name": "stdout",
     "output_type": "stream",
     "text": [
      "Tzilivaki1_2019.ipynb\n"
     ]
    },
    {
     "name": "stderr",
     "output_type": "stream",
     "text": [
      "Executing: 100%|██████████████████████████████| 10/10 [00:06<00:00,  1.56cell/s]\n"
     ]
    },
    {
     "name": "stdout",
     "output_type": "stream",
     "text": [
      "Tzilivaki1_2019_0.1_dt.ipynb\n"
     ]
    },
    {
     "name": "stderr",
     "output_type": "stream",
     "text": [
      "Executing: 100%|██████████████████████████████| 10/10 [03:17<00:00, 19.74s/cell]\n"
     ]
    },
    {
     "name": "stdout",
     "output_type": "stream",
     "text": [
      "Tzilivaki2_2019.ipynb\n"
     ]
    },
    {
     "name": "stderr",
     "output_type": "stream",
     "text": [
      "Executing: 100%|██████████████████████████████| 10/10 [08:42<00:00, 52.26s/cell]\n"
     ]
    },
    {
     "name": "stdout",
     "output_type": "stream",
     "text": [
      "Tzilivaki2_2019_0.1_dt.ipynb\n"
     ]
    },
    {
     "name": "stderr",
     "output_type": "stream",
     "text": [
      "Executing: 100%|██████████████████████████████| 10/10 [02:35<00:00, 15.57s/cell]\n"
     ]
    },
    {
     "name": "stdout",
     "output_type": "stream",
     "text": [
      "Tzilivaki3_2019.ipynb\n"
     ]
    },
    {
     "name": "stderr",
     "output_type": "stream",
     "text": [
      "Executing: 100%|██████████████████████████████| 10/10 [08:34<00:00, 51.43s/cell]\n"
     ]
    },
    {
     "name": "stdout",
     "output_type": "stream",
     "text": [
      "Tzilivaki3_2019_0.1_dt.ipynb\n"
     ]
    },
    {
     "name": "stderr",
     "output_type": "stream",
     "text": [
      "Executing: 100%|██████████████████████████████| 10/10 [02:20<00:00, 14.03s/cell]\n"
     ]
    },
    {
     "name": "stdout",
     "output_type": "stream",
     "text": [
      "Tzilivaki4_2019.ipynb\n"
     ]
    },
    {
     "name": "stderr",
     "output_type": "stream",
     "text": [
      "Executing: 100%|██████████████████████████████| 10/10 [11:29<00:00, 68.99s/cell]\n"
     ]
    },
    {
     "name": "stdout",
     "output_type": "stream",
     "text": [
      "Tzilivaki4_2019_0.1_dt.ipynb\n"
     ]
    },
    {
     "name": "stderr",
     "output_type": "stream",
     "text": [
      "Executing: 100%|██████████████████████████████| 10/10 [03:08<00:00, 18.89s/cell]\n"
     ]
    },
    {
     "name": "stdout",
     "output_type": "stream",
     "text": [
      "Tzilivaki5_2019.ipynb\n"
     ]
    },
    {
     "name": "stderr",
     "output_type": "stream",
     "text": [
      "Executing: 100%|██████████████████████████████| 10/10 [08:47<00:00, 52.70s/cell]\n"
     ]
    },
    {
     "name": "stdout",
     "output_type": "stream",
     "text": [
      "Tzilivaki5_2019_0.1_dt.ipynb\n"
     ]
    },
    {
     "name": "stderr",
     "output_type": "stream",
     "text": [
      "Executing: 100%|██████████████████████████████| 10/10 [02:29<00:00, 14.97s/cell]\n"
     ]
    },
    {
     "name": "stdout",
     "output_type": "stream",
     "text": [
      "Vladimirov_2013.ipynb\n"
     ]
    },
    {
     "name": "stderr",
     "output_type": "stream",
     "text": [
      "Executing: 100%|██████████████████████████████| 10/10 [00:46<00:00,  4.64s/cell]\n"
     ]
    },
    {
     "name": "stdout",
     "output_type": "stream",
     "text": [
      "\n",
      "Evaluating models with RAT data\n",
      "\n",
      "Bezaire_2016.ipynb\n"
     ]
    },
    {
     "name": "stderr",
     "output_type": "stream",
     "text": [
      "Executing: 100%|██████████████████████████████| 10/10 [00:55<00:00,  5.56s/cell]\n"
     ]
    },
    {
     "name": "stdout",
     "output_type": "stream",
     "text": [
      "Chiovini_2014.ipynb\n"
     ]
    },
    {
     "name": "stderr",
     "output_type": "stream",
     "text": [
      "Executing: 100%|██████████████████████████████| 10/10 [01:02<00:00,  6.20s/cell]\n"
     ]
    },
    {
     "name": "stdout",
     "output_type": "stream",
     "text": [
      "Cuts&Poir_2015.ipynb\n"
     ]
    },
    {
     "name": "stderr",
     "output_type": "stream",
     "text": [
      "Executing: 100%|██████████████████████████████| 10/10 [01:01<00:00,  6.12s/cell]\n"
     ]
    },
    {
     "name": "stdout",
     "output_type": "stream",
     "text": [
      "Ferr&Asco_2015.ipynb\n"
     ]
    },
    {
     "name": "stderr",
     "output_type": "stream",
     "text": [
      "Executing: 100%|██████████████████████████████| 10/10 [01:02<00:00,  6.22s/cell]\n"
     ]
    },
    {
     "name": "stdout",
     "output_type": "stream",
     "text": [
      "Hu(rb)_2018.ipynb\n"
     ]
    },
    {
     "name": "stderr",
     "output_type": "stream",
     "text": [
      "Executing: 100%|██████████████████████████████| 10/10 [00:49<00:00,  4.93s/cell]\n"
     ]
    },
    {
     "name": "stdout",
     "output_type": "stream",
     "text": [
      "Hu(vd)_2018.ipynb\n"
     ]
    },
    {
     "name": "stderr",
     "output_type": "stream",
     "text": [
      "Executing: 100%|██████████████████████████████| 10/10 [00:47<00:00,  4.73s/cell]\n"
     ]
    },
    {
     "name": "stdout",
     "output_type": "stream",
     "text": [
      "Hummos_2014.ipynb\n"
     ]
    },
    {
     "name": "stderr",
     "output_type": "stream",
     "text": [
      "Executing: 100%|██████████████████████████████| 10/10 [00:47<00:00,  4.70s/cell]\n"
     ]
    },
    {
     "name": "stdout",
     "output_type": "stream",
     "text": [
      "Lee_2014.ipynb\n"
     ]
    },
    {
     "name": "stderr",
     "output_type": "stream",
     "text": [
      "Executing: 100%|██████████████████████████████| 10/10 [00:52<00:00,  5.23s/cell]\n"
     ]
    },
    {
     "name": "stdout",
     "output_type": "stream",
     "text": [
      "Migliore_2018.ipynb\n"
     ]
    },
    {
     "name": "stderr",
     "output_type": "stream",
     "text": [
      "Executing: 100%|██████████████████████████████| 10/10 [02:32<00:00, 15.21s/cell]\n"
     ]
    },
    {
     "name": "stdout",
     "output_type": "stream",
     "text": [
      "Neymotin_2011.ipynb\n"
     ]
    },
    {
     "name": "stderr",
     "output_type": "stream",
     "text": [
      "Executing: 100%|██████████████████████████████| 10/10 [00:49<00:00,  5.00s/cell]\n"
     ]
    },
    {
     "name": "stdout",
     "output_type": "stream",
     "text": [
      "Neymotin_2013.ipynb\n"
     ]
    },
    {
     "name": "stderr",
     "output_type": "stream",
     "text": [
      "Executing: 100%|██████████████████████████████| 10/10 [00:50<00:00,  5.09s/cell]\n"
     ]
    },
    {
     "name": "stdout",
     "output_type": "stream",
     "text": [
      "Saraga_2006_cels_34.ipynb\n"
     ]
    },
    {
     "name": "stderr",
     "output_type": "stream",
     "text": [
      "Executing: 100%|██████████████████████████████| 11/11 [00:27<00:00,  2.53s/cell]\n"
     ]
    },
    {
     "name": "stdout",
     "output_type": "stream",
     "text": [
      "Saraga_2006_cels_6.3.ipynb\n"
     ]
    },
    {
     "name": "stderr",
     "output_type": "stream",
     "text": [
      "Executing: 100%|██████████████████████████████| 10/10 [00:50<00:00,  5.02s/cell]\n"
     ]
    },
    {
     "name": "stdout",
     "output_type": "stream",
     "text": [
      "Saudargiene_2015.ipynb\n"
     ]
    },
    {
     "name": "stderr",
     "output_type": "stream",
     "text": [
      "Executing: 100%|██████████████████████████████| 10/10 [01:00<00:00,  6.06s/cell]\n"
     ]
    },
    {
     "name": "stdout",
     "output_type": "stream",
     "text": [
      "Sherif_2020.ipynb\n"
     ]
    },
    {
     "name": "stderr",
     "output_type": "stream",
     "text": [
      "Executing: 100%|██████████████████████████████| 10/10 [00:49<00:00,  4.90s/cell]\n"
     ]
    },
    {
     "name": "stdout",
     "output_type": "stream",
     "text": [
      "Stacey(rb)_2009.ipynb\n"
     ]
    },
    {
     "name": "stderr",
     "output_type": "stream",
     "text": [
      "Executing: 100%|██████████████████████████████| 10/10 [00:47<00:00,  4.79s/cell]\n"
     ]
    },
    {
     "name": "stdout",
     "output_type": "stream",
     "text": [
      "Stacey(vd)_2009.ipynb\n"
     ]
    },
    {
     "name": "stderr",
     "output_type": "stream",
     "text": [
      "Executing: 100%|██████████████████████████████| 10/10 [00:45<00:00,  4.60s/cell]\n"
     ]
    },
    {
     "name": "stdout",
     "output_type": "stream",
     "text": [
      "Turi_2019.ipynb\n"
     ]
    },
    {
     "name": "stderr",
     "output_type": "stream",
     "text": [
      "Executing: 100%|██████████████████████████████| 10/10 [00:56<00:00,  5.66s/cell]\n"
     ]
    },
    {
     "name": "stdout",
     "output_type": "stream",
     "text": [
      "Tzilivaki1_2019.ipynb\n"
     ]
    },
    {
     "name": "stderr",
     "output_type": "stream",
     "text": [
      "Executing: 100%|██████████████████████████████| 10/10 [00:06<00:00,  1.57cell/s]\n"
     ]
    },
    {
     "name": "stdout",
     "output_type": "stream",
     "text": [
      "Tzilivaki1_2019_0.1_dt.ipynb\n"
     ]
    },
    {
     "name": "stderr",
     "output_type": "stream",
     "text": [
      "Executing: 100%|██████████████████████████████| 10/10 [03:41<00:00, 22.11s/cell]\n"
     ]
    },
    {
     "name": "stdout",
     "output_type": "stream",
     "text": [
      "Tzilivaki2_2019.ipynb\n"
     ]
    },
    {
     "name": "stderr",
     "output_type": "stream",
     "text": [
      "Executing: 100%|██████████████████████████████| 10/10 [10:18<00:00, 61.86s/cell]\n"
     ]
    },
    {
     "name": "stdout",
     "output_type": "stream",
     "text": [
      "Tzilivaki2_2019_0.1_dt.ipynb\n"
     ]
    },
    {
     "name": "stderr",
     "output_type": "stream",
     "text": [
      "Executing: 100%|██████████████████████████████| 10/10 [02:59<00:00, 17.97s/cell]\n"
     ]
    },
    {
     "name": "stdout",
     "output_type": "stream",
     "text": [
      "Tzilivaki3_2019.ipynb\n"
     ]
    },
    {
     "name": "stderr",
     "output_type": "stream",
     "text": [
      "Executing: 100%|██████████████████████████████| 10/10 [10:13<00:00, 61.34s/cell]\n"
     ]
    },
    {
     "name": "stdout",
     "output_type": "stream",
     "text": [
      "Tzilivaki3_2019_0.1_dt.ipynb\n"
     ]
    },
    {
     "name": "stderr",
     "output_type": "stream",
     "text": [
      "Executing: 100%|██████████████████████████████| 10/10 [02:53<00:00, 17.36s/cell]\n"
     ]
    },
    {
     "name": "stdout",
     "output_type": "stream",
     "text": [
      "Tzilivaki4_2019.ipynb\n"
     ]
    },
    {
     "name": "stderr",
     "output_type": "stream",
     "text": [
      "Executing: 100%|██████████████████████████████| 10/10 [12:18<00:00, 73.83s/cell]\n"
     ]
    },
    {
     "name": "stdout",
     "output_type": "stream",
     "text": [
      "Tzilivaki4_2019_0.1_dt.ipynb\n"
     ]
    },
    {
     "name": "stderr",
     "output_type": "stream",
     "text": [
      "Executing: 100%|██████████████████████████████| 10/10 [03:28<00:00, 20.85s/cell]\n"
     ]
    },
    {
     "name": "stdout",
     "output_type": "stream",
     "text": [
      "Tzilivaki5_2019.ipynb\n"
     ]
    },
    {
     "name": "stderr",
     "output_type": "stream",
     "text": [
      "Executing: 100%|██████████████████████████████| 10/10 [10:11<00:00, 61.17s/cell]\n"
     ]
    },
    {
     "name": "stdout",
     "output_type": "stream",
     "text": [
      "Tzilivaki5_2019_0.1_dt.ipynb\n"
     ]
    },
    {
     "name": "stderr",
     "output_type": "stream",
     "text": [
      "Executing: 100%|██████████████████████████████| 10/10 [03:10<00:00, 19.08s/cell]\n"
     ]
    },
    {
     "name": "stdout",
     "output_type": "stream",
     "text": [
      "Vladimirov_2013.ipynb\n"
     ]
    },
    {
     "name": "stderr",
     "output_type": "stream",
     "text": [
      "Executing: 100%|██████████████████████████████| 10/10 [00:51<00:00,  5.12s/cell]\n"
     ]
    }
   ],
   "source": [
    "import sys\n",
    "import os\n",
    "import papermill as pm\n",
    "\n",
    "parameters_MOUSE_expdata = dict(results_folder = '/home/szabobogi/hippounit_standard_features/validation_results_MOUSE/', \n",
    "                                target_data = '/home/szabobogi/BluePyEfe_standard_features/BluePyEfe/'\n",
    "                                'FINAL_PV_PTI_data/features_for_validation/standard_features_for_validation_MOUSE_FINAL.json',\n",
    "                                stim_data = '/home/szabobogi/BluePyEfe_standard_features/BluePyEfe/'\n",
    "                                'FINAL_PV_PTI_data/stim_for_validation/stim_for_validation_MOUSE_FINAL.json')\n",
    "parameters_RAT_expdata = dict(results_folder = '/home/szabobogi/hippounit_standard_features/validation_results_RAT/', \n",
    "                                target_data = '/home/szabobogi/BluePyEfe_standard_features/BluePyEfe/'\n",
    "                                'FINAL_PV_PTI_data/features_for_validation/standard_features_for_validation_RAT_FINAL.json',\n",
    "                                stim_data = '/home/szabobogi/BluePyEfe_standard_features/BluePyEfe/'\n",
    "                                'FINAL_PV_PTI_data/stim_for_validation/stim_for_validation_RAT_FINAL.json')\n",
    "\n",
    "\n",
    "models_evaluation_notebooks = '/home/szabobogi/hippounit_standard_features/notebooks/soma_test/'\n",
    "models = sorted(os.listdir(models_evaluation_notebooks))\n",
    "\n",
    "# Evaluating on MOUSE experimental standard features\n",
    "print('\\nEvaluating models with MOUSE data\\n')\n",
    "for notebook in models:\n",
    "    if notebook.endswith('.ipynb') and not notebook.startswith('TEST'):\n",
    "        print(notebook)\n",
    "        notebook_path = os.path.join(models_evaluation_notebooks, notebook)\n",
    "        pm.execute_notebook(notebook_path, notebook_path, parameters=parameters_MOUSE_expdata);\n",
    "\n",
    "\n",
    "# Evaluating on RAT experimental standard features\n",
    "print('\\nEvaluating models with RAT data\\n')\n",
    "for notebook in models:\n",
    "    if notebook.endswith('.ipynb') and not notebook.startswith('TEST'):\n",
    "        print(notebook)\n",
    "        notebook_path = os.path.join(models_evaluation_notebooks, notebook)\n",
    "        pm.execute_notebook(notebook_path, notebook_path, parameters=parameters_RAT_expdata);\n",
    "\n"
   ]
  },
  {
   "cell_type": "code",
   "execution_count": null,
   "id": "faf921c9-bebe-464d-8120-b5236868f782",
   "metadata": {},
   "outputs": [],
   "source": []
  }
 ],
 "metadata": {
  "kernelspec": {
   "display_name": "Python 3 (ipykernel)",
   "language": "python",
   "name": "python3"
  },
  "language_info": {
   "codemirror_mode": {
    "name": "ipython",
    "version": 3
   },
   "file_extension": ".py",
   "mimetype": "text/x-python",
   "name": "python",
   "nbconvert_exporter": "python",
   "pygments_lexer": "ipython3",
   "version": "3.8.10"
  }
 },
 "nbformat": 4,
 "nbformat_minor": 5
}
