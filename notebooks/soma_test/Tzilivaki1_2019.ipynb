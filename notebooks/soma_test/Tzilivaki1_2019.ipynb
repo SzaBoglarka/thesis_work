{
 "cells": [
  {
   "cell_type": "code",
   "execution_count": 1,
   "id": "7e2994e8",
   "metadata": {
    "execution": {
     "iopub.execute_input": "2024-10-10T17:28:37.893835Z",
     "iopub.status.busy": "2024-10-10T17:28:37.893389Z",
     "iopub.status.idle": "2024-10-10T17:28:39.580730Z",
     "shell.execute_reply": "2024-10-10T17:28:39.579919Z"
    },
    "papermill": {
     "duration": 1.697593,
     "end_time": "2024-10-10T17:28:39.583084",
     "exception": false,
     "start_time": "2024-10-10T17:28:37.885491",
     "status": "completed"
    },
    "tags": []
   },
   "outputs": [
    {
     "name": "stdout",
     "output_type": "stream",
     "text": [
      "8.2.3\n"
     ]
    }
   ],
   "source": [
    "from __future__ import print_function\n",
    "\n",
    "%matplotlib inline\n",
    "\n",
    "import sys\n",
    "import os\n",
    "sys.path.append(os.path.abspath(os.path.join(os.getcwd(), '..')))\n",
    "# sys.path.append(os.path.abspath(os.path.join(os.getcwd(), '..', '..')))\n",
    "from hippounit.utils import ModelLoader\n",
    "from hippounit import tests\n",
    "\n",
    "from json2html import *\n",
    "import pkg_resources\n",
    "import json\n",
    "import collections\n",
    "import numpy\n",
    "import IPython"
   ]
  },
  {
   "cell_type": "code",
   "execution_count": 2,
   "id": "de6b3164",
   "metadata": {
    "execution": {
     "iopub.execute_input": "2024-10-10T17:28:39.596341Z",
     "iopub.status.busy": "2024-10-10T17:28:39.595294Z",
     "iopub.status.idle": "2024-10-10T17:28:39.606201Z",
     "shell.execute_reply": "2024-10-10T17:28:39.605506Z"
    },
    "papermill": {
     "duration": 0.018922,
     "end_time": "2024-10-10T17:28:39.608112",
     "exception": false,
     "start_time": "2024-10-10T17:28:39.589190",
     "status": "completed"
    },
    "tags": [
     "parameters"
    ]
   },
   "outputs": [],
   "source": [
    "# This cell should have a 'parameters' tag for papermill parameterized notebook execution\n",
    "results_folder = 'path_to_base_directory'     # MOUSE or RAT\n",
    "target_data = 'path_to_target_data'           # MOUSE or RAT\n",
    "stim_data = 'path_to_stim_file'               # MOUSE or RAT"
   ]
  },
  {
   "cell_type": "code",
   "execution_count": 3,
   "id": "5208f797",
   "metadata": {
    "execution": {
     "iopub.execute_input": "2024-10-10T17:28:39.615634Z",
     "iopub.status.busy": "2024-10-10T17:28:39.615395Z",
     "iopub.status.idle": "2024-10-10T17:28:39.618937Z",
     "shell.execute_reply": "2024-10-10T17:28:39.618282Z"
    },
    "papermill": {
     "duration": 0.00906,
     "end_time": "2024-10-10T17:28:39.621031",
     "exception": false,
     "start_time": "2024-10-10T17:28:39.611971",
     "status": "completed"
    },
    "tags": [
     "injected-parameters"
    ]
   },
   "outputs": [],
   "source": [
    "# Parameters\n",
    "results_folder = \"/home/szabobogi/hippounit_standard_features/validation_results_RAT/\"\n",
    "target_data = \"/home/szabobogi/BluePyEfe_standard_features/BluePyEfe/FINAL_PV_PTI_data/features_for_validation/standard_features_for_validation_RAT_FINAL.json\"\n",
    "stim_data = \"/home/szabobogi/BluePyEfe_standard_features/BluePyEfe/FINAL_PV_PTI_data/stim_for_validation/stim_for_validation_RAT_FINAL.json\"\n"
   ]
  },
  {
   "cell_type": "markdown",
   "id": "e37e34db",
   "metadata": {
    "papermill": {
     "duration": 0.00276,
     "end_time": "2024-10-10T17:28:39.626568",
     "exception": false,
     "start_time": "2024-10-10T17:28:39.623808",
     "status": "completed"
    },
    "tags": []
   },
   "source": [
    "## Instantiating the model\n",
    "\n",
    "The ModelLoader class of HippoUnit is instantiated and the model, and simulation related parameters are set."
   ]
  },
  {
   "cell_type": "code",
   "execution_count": 4,
   "id": "4e452da9",
   "metadata": {
    "execution": {
     "iopub.execute_input": "2024-10-10T17:28:39.633760Z",
     "iopub.status.busy": "2024-10-10T17:28:39.633257Z",
     "iopub.status.idle": "2024-10-10T17:28:39.641347Z",
     "shell.execute_reply": "2024-10-10T17:28:39.640673Z"
    },
    "papermill": {
     "duration": 0.014759,
     "end_time": "2024-10-10T17:28:39.643961",
     "exception": false,
     "start_time": "2024-10-10T17:28:39.629202",
     "status": "completed"
    },
    "tags": []
   },
   "outputs": [],
   "source": [
    "# path to mod files\n",
    "mod_files_path = \"/home/szabobogi/BC_modells/TzilivakiEtal_FSBCs_model/Multicompartmental_Biophysical_models/mechanism/\"\n",
    "\n",
    "#all the outputs will be saved here. It will be an argument to the test.\n",
    "base_directory = results_folder\n",
    "\n",
    "#Load cell model\n",
    "model = ModelLoader(mod_files_path = mod_files_path )\n",
    "\n",
    "# outputs will be saved in subfolders named like this:\n",
    "model.name=\"Tzilivaki1_2019\"\n",
    "\n",
    "# path to hoc file\n",
    "# the model must not display any GUI!!\n",
    "model.hocpath = \"/home/szabobogi/BC_modells/TzilivakiEtal_FSBCs_model/Multicompartmental_Biophysical_models/experiment/main_model_Somogyi_1.hoc\"\n",
    "\n",
    "# If the hoc file doesn't contain a template, this must be None (the default value is None)\n",
    "model.template_name = None\n",
    "#Template is not loaded directly by HippoUnit, because \"current_balanceFS(-68)\" has to be called after initializing the template \n",
    "\n",
    "# model.SomaSecList_name should be None, if there is no Section List in the model for the soma, or if the name of the soma section is given by setting model.soma (the default value is None)\n",
    "model.SomaSecList_name = None\n",
    "# if the soma is not in a section list or to use a specific somatic section, add its name here:\n",
    "\n",
    "# It is important to set the v_init and the celsius parameters of the simulations here,\n",
    "# as if they are only set in the model's files, they will be overwritten with the default values of the ModelLoader class.\n",
    "# default values: v_init = -70, celsius = 34 \n",
    "model.v_init = -65\n",
    "#model.dt = 0.1\n",
    "\n"
   ]
  },
  {
   "cell_type": "markdown",
   "id": "1a9fbaa8",
   "metadata": {
    "papermill": {
     "duration": 0.003877,
     "end_time": "2024-10-10T17:28:39.652704",
     "exception": false,
     "start_time": "2024-10-10T17:28:39.648827",
     "status": "completed"
    },
    "tags": []
   },
   "source": [
    "## Instantiating and running the tests of HippoUnit on the model\n",
    "\n",
    "At the end of each test, the user is provided with a textual summary of the score and the path to related output files generated by the tests."
   ]
  },
  {
   "cell_type": "markdown",
   "id": "79b7a3cc",
   "metadata": {
    "papermill": {
     "duration": 0.002273,
     "end_time": "2024-10-10T17:28:39.657100",
     "exception": false,
     "start_time": "2024-10-10T17:28:39.654827",
     "status": "completed"
    },
    "tags": []
   },
   "source": [
    "### Somatic Features Test - with global features\n",
    "\n",
    "It evaluates the model against experimental eFEL (https://github.com/BlueBrain/eFEL) features under somatic current injection using standardized current amplitudes. "
   ]
  },
  {
   "cell_type": "code",
   "execution_count": 5,
   "id": "b0658a54",
   "metadata": {
    "execution": {
     "iopub.execute_input": "2024-10-10T17:28:39.663021Z",
     "iopub.status.busy": "2024-10-10T17:28:39.662581Z",
     "iopub.status.idle": "2024-10-10T17:28:39.666577Z",
     "shell.execute_reply": "2024-10-10T17:28:39.666015Z"
    },
    "papermill": {
     "duration": 0.010475,
     "end_time": "2024-10-10T17:28:39.669746",
     "exception": false,
     "start_time": "2024-10-10T17:28:39.659271",
     "status": "completed"
    },
    "tags": []
   },
   "outputs": [],
   "source": [
    "# Load target data \n",
    "with open(target_data) as f:\n",
    "    observation = json.load(f, object_pairs_hook=collections.OrderedDict)  "
   ]
  },
  {
   "cell_type": "code",
   "execution_count": 6,
   "id": "603cdf5b",
   "metadata": {
    "execution": {
     "iopub.execute_input": "2024-10-10T17:28:39.676473Z",
     "iopub.status.busy": "2024-10-10T17:28:39.676251Z",
     "iopub.status.idle": "2024-10-10T17:28:40.554575Z",
     "shell.execute_reply": "2024-10-10T17:28:40.553011Z"
    },
    "papermill": {
     "duration": 0.884159,
     "end_time": "2024-10-10T17:28:40.556802",
     "exception": false,
     "start_time": "2024-10-10T17:28:39.672643",
     "status": "completed"
    },
    "tags": []
   },
   "outputs": [
    {
     "name": "stdout",
     "output_type": "stream",
     "text": [
      "efel version: 5.5.5\n",
      "AP detection threshold is set to -10\n"
     ]
    },
    {
     "name": "stdout",
     "output_type": "stream",
     "text": [
      "Model: Tzilivaki1_2019 could not be run\n",
      "Please give the name of the soma (eg. model.soma=\"soma[0]\"), or the name of the somatic section list (eg. model.SomaSecList_name=\"somatic\")\n"
     ]
    }
   ],
   "source": [
    "# Load stimuli file\n",
    "with open(stim_data, 'r') as f:\n",
    "    config = json.load(f, object_pairs_hook=collections.OrderedDict)\n",
    "    \n",
    "# Instantiate test class   \n",
    "test = tests.SomaticFeaturesTestWithGlobalFeatures(\n",
    "    observation=observation, \n",
    "    config=config, \n",
    "    force_run=True, \n",
    "    show_plot=False, \n",
    "    save_all = True, \n",
    "    base_directory=base_directory,\n",
    "    AP_detection_thd = -10,\n",
    "    steady_state_threshold=30,\n",
    "    highfreq_firing_threshold=150)\n",
    "\n",
    "\n",
    "# Number of parallel processes\n",
    "test.npool = 10\n",
    "\n",
    "try:\n",
    "    #Run the test \n",
    "    score = test.judge(model)\n",
    "    #Summarize and print the score achieved by the model on the test using SciUnit's summarize function\n",
    "    score.summarize()\n",
    "except Exception as e:\n",
    "    print('Model: ' + model.name + ' could not be run')\n",
    "    print(e)\n",
    "    pass"
   ]
  },
  {
   "cell_type": "code",
   "execution_count": null,
   "id": "b1eca69a",
   "metadata": {
    "papermill": {
     "duration": 0.005137,
     "end_time": "2024-10-10T17:28:40.568019",
     "exception": false,
     "start_time": "2024-10-10T17:28:40.562882",
     "status": "completed"
    },
    "tags": []
   },
   "outputs": [],
   "source": []
  }
 ],
 "metadata": {
  "celltoolbar": "Tags",
  "kernelspec": {
   "display_name": "Python 3 (ipykernel)",
   "language": "python",
   "name": "python3"
  },
  "language_info": {
   "codemirror_mode": {
    "name": "ipython",
    "version": 3
   },
   "file_extension": ".py",
   "mimetype": "text/x-python",
   "name": "python",
   "nbconvert_exporter": "python",
   "pygments_lexer": "ipython3",
   "version": "3.8.10"
  },
  "papermill": {
   "default_parameters": {},
   "duration": 4.196417,
   "end_time": "2024-10-10T17:28:41.194624",
   "environment_variables": {},
   "exception": null,
   "input_path": "/home/szabobogi/hippounit_standard_features/notebooks/soma_test/Tzilivaki1_2019.ipynb",
   "output_path": "/home/szabobogi/hippounit_standard_features/notebooks/soma_test/Tzilivaki1_2019.ipynb",
   "parameters": {
    "results_folder": "/home/szabobogi/hippounit_standard_features/validation_results_RAT/",
    "stim_data": "/home/szabobogi/BluePyEfe_standard_features/BluePyEfe/FINAL_PV_PTI_data/stim_for_validation/stim_for_validation_RAT_FINAL.json",
    "target_data": "/home/szabobogi/BluePyEfe_standard_features/BluePyEfe/FINAL_PV_PTI_data/features_for_validation/standard_features_for_validation_RAT_FINAL.json"
   },
   "start_time": "2024-10-10T17:28:36.998207",
   "version": "2.6.0"
  }
 },
 "nbformat": 4,
 "nbformat_minor": 5
}