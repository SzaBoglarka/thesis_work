{
 "cells": [
  {
   "cell_type": "code",
   "execution_count": 1,
   "id": "628cb48b",
   "metadata": {
    "execution": {
     "iopub.execute_input": "2024-10-10T17:23:12.658602Z",
     "iopub.status.busy": "2024-10-10T17:23:12.657985Z",
     "iopub.status.idle": "2024-10-10T17:23:14.282459Z",
     "shell.execute_reply": "2024-10-10T17:23:14.281573Z"
    },
    "papermill": {
     "duration": 1.638299,
     "end_time": "2024-10-10T17:23:14.286019",
     "exception": false,
     "start_time": "2024-10-10T17:23:12.647720",
     "status": "completed"
    },
    "tags": []
   },
   "outputs": [
    {
     "name": "stdout",
     "output_type": "stream",
     "text": [
      "8.2.3\n"
     ]
    }
   ],
   "source": [
    "from __future__ import print_function\n",
    "\n",
    "%matplotlib inline\n",
    "\n",
    "import sys\n",
    "import os\n",
    "sys.path.append(os.path.abspath(os.path.join(os.getcwd(), '..')))\n",
    "# sys.path.append(os.path.abspath(os.path.join(os.getcwd(), '..', '..')))\n",
    "from hippounit.utils import ModelLoader\n",
    "from hippounit import tests\n",
    "\n",
    "from json2html import *\n",
    "import pkg_resources\n",
    "import json\n",
    "import collections\n",
    "import numpy\n",
    "import IPython"
   ]
  },
  {
   "cell_type": "code",
   "execution_count": 2,
   "id": "f7dfe284",
   "metadata": {
    "execution": {
     "iopub.execute_input": "2024-10-10T17:23:14.297462Z",
     "iopub.status.busy": "2024-10-10T17:23:14.296738Z",
     "iopub.status.idle": "2024-10-10T17:23:14.310506Z",
     "shell.execute_reply": "2024-10-10T17:23:14.309250Z"
    },
    "papermill": {
     "duration": 0.023117,
     "end_time": "2024-10-10T17:23:14.313175",
     "exception": false,
     "start_time": "2024-10-10T17:23:14.290058",
     "status": "completed"
    },
    "tags": [
     "parameters"
    ]
   },
   "outputs": [],
   "source": [
    "# This cell should have a 'parameters' tag for papermill parameterized notebook execution\n",
    "results_folder = 'path_to_base_directory'     # MOUSE or RAT\n",
    "target_data = 'path_to_target_data'           # MOUSE or RAT\n",
    "stim_data = 'path_to_stim_file'               # MOUSE or RAT"
   ]
  },
  {
   "cell_type": "code",
   "execution_count": 3,
   "id": "462bc005",
   "metadata": {
    "execution": {
     "iopub.execute_input": "2024-10-10T17:23:14.323660Z",
     "iopub.status.busy": "2024-10-10T17:23:14.322918Z",
     "iopub.status.idle": "2024-10-10T17:23:14.328852Z",
     "shell.execute_reply": "2024-10-10T17:23:14.327705Z"
    },
    "papermill": {
     "duration": 0.013255,
     "end_time": "2024-10-10T17:23:14.331166",
     "exception": false,
     "start_time": "2024-10-10T17:23:14.317911",
     "status": "completed"
    },
    "tags": [
     "injected-parameters"
    ]
   },
   "outputs": [],
   "source": [
    "# Parameters\n",
    "results_folder = \"/home/szabobogi/hippounit_standard_features/validation_results_RAT/\"\n",
    "target_data = \"/home/szabobogi/BluePyEfe_standard_features/BluePyEfe/FINAL_PV_PTI_data/features_for_validation/standard_features_for_validation_RAT_FINAL.json\"\n",
    "stim_data = \"/home/szabobogi/BluePyEfe_standard_features/BluePyEfe/FINAL_PV_PTI_data/stim_for_validation/stim_for_validation_RAT_FINAL.json\"\n"
   ]
  },
  {
   "cell_type": "code",
   "execution_count": 4,
   "id": "795a6454",
   "metadata": {
    "execution": {
     "iopub.execute_input": "2024-10-10T17:23:14.339850Z",
     "iopub.status.busy": "2024-10-10T17:23:14.339374Z",
     "iopub.status.idle": "2024-10-10T17:23:14.345389Z",
     "shell.execute_reply": "2024-10-10T17:23:14.344347Z"
    },
    "papermill": {
     "duration": 0.013139,
     "end_time": "2024-10-10T17:23:14.347634",
     "exception": false,
     "start_time": "2024-10-10T17:23:14.334495",
     "status": "completed"
    },
    "tags": []
   },
   "outputs": [
    {
     "name": "stdout",
     "output_type": "stream",
     "text": [
      "target_data: /home/szabobogi/BluePyEfe_standard_features/BluePyEfe/FINAL_PV_PTI_data/features_for_validation/standard_features_for_validation_RAT_FINAL.json\n"
     ]
    }
   ],
   "source": [
    "print(\"target_data:\", target_data)"
   ]
  },
  {
   "cell_type": "markdown",
   "id": "3e1617f5",
   "metadata": {
    "papermill": {
     "duration": 0.005175,
     "end_time": "2024-10-10T17:23:14.357794",
     "exception": false,
     "start_time": "2024-10-10T17:23:14.352619",
     "status": "completed"
    },
    "tags": []
   },
   "source": [
    "## Instantiating the model\n",
    "\n",
    "The ModelLoader class of HippoUnit is instantiated and the model, and simulation related parameters are set."
   ]
  },
  {
   "cell_type": "code",
   "execution_count": 5,
   "id": "72969753",
   "metadata": {
    "execution": {
     "iopub.execute_input": "2024-10-10T17:23:14.364945Z",
     "iopub.status.busy": "2024-10-10T17:23:14.364473Z",
     "iopub.status.idle": "2024-10-10T17:23:14.372005Z",
     "shell.execute_reply": "2024-10-10T17:23:14.371067Z"
    },
    "papermill": {
     "duration": 0.014366,
     "end_time": "2024-10-10T17:23:14.374757",
     "exception": false,
     "start_time": "2024-10-10T17:23:14.360391",
     "status": "completed"
    },
    "tags": []
   },
   "outputs": [],
   "source": [
    "# path to mod files\n",
    "mod_files_path = \"/home/szabobogi/BC_modells/CA1_Saraga_2006/\"\n",
    "\n",
    "#all the outputs will be saved here. It will be an argument to the test.\n",
    "base_directory = results_folder\n",
    "\n",
    "#Load cell model\n",
    "model = ModelLoader(mod_files_path = mod_files_path )\n",
    "\n",
    "# outputs will be saved in subfolders named like this:\n",
    "model.name=\"Saraga_2006_34_cels\"\n",
    "\n",
    "# path to hoc file\n",
    "# the model must not display any GUI!!\n",
    "model.hocpath = \"/home/szabobogi/BC_modells/CA1_Saraga_2006/cella.hoc\"\n",
    "\n",
    "# If the hoc file doesn't contain a template, this must be None (the default value is None)\n",
    "model.template_name = None\n",
    "\n",
    "# model.SomaSecList_name should be None, if there is no Section List in the model for the soma, or if the name of the soma section is given by setting model.soma (the default value is None)\n",
    "model.SomaSecList_name = None\n",
    "# if the soma is not in a section list or to use a specific somatic section, add its name here:\n",
    "model.soma = \"somaa\"\n",
    "\n",
    "# It is important to set the v_init and the celsius parameters of the simulations here,\n",
    "# as if they are only set in the model's files, they will be overwritten with the default values of the ModelLoader class.\n",
    "# default values: v_init = -70, celsius = 34 \n",
    "model.v_init = -65\n",
    "#model.dt = 0.1\n",
    "\n"
   ]
  },
  {
   "cell_type": "markdown",
   "id": "9adeae70",
   "metadata": {
    "papermill": {
     "duration": 0.002892,
     "end_time": "2024-10-10T17:23:14.380244",
     "exception": false,
     "start_time": "2024-10-10T17:23:14.377352",
     "status": "completed"
    },
    "tags": []
   },
   "source": [
    "## Instantiating and running the tests of HippoUnit on the model\n",
    "\n",
    "At the end of each test, the user is provided with a textual summary of the score and the path to related output files generated by the tests."
   ]
  },
  {
   "cell_type": "markdown",
   "id": "f8485e57",
   "metadata": {
    "papermill": {
     "duration": 0.003276,
     "end_time": "2024-10-10T17:23:14.386611",
     "exception": false,
     "start_time": "2024-10-10T17:23:14.383335",
     "status": "completed"
    },
    "tags": []
   },
   "source": [
    "### Somatic Features Test - with global features\n",
    "\n",
    "It evaluates the model against experimental eFEL (https://github.com/BlueBrain/eFEL) features under somatic current injection using standardized current amplitudes. "
   ]
  },
  {
   "cell_type": "code",
   "execution_count": 6,
   "id": "4532d7d8",
   "metadata": {
    "execution": {
     "iopub.execute_input": "2024-10-10T17:23:14.395611Z",
     "iopub.status.busy": "2024-10-10T17:23:14.395108Z",
     "iopub.status.idle": "2024-10-10T17:23:14.401643Z",
     "shell.execute_reply": "2024-10-10T17:23:14.400710Z"
    },
    "papermill": {
     "duration": 0.013727,
     "end_time": "2024-10-10T17:23:14.404041",
     "exception": false,
     "start_time": "2024-10-10T17:23:14.390314",
     "status": "completed"
    },
    "tags": []
   },
   "outputs": [],
   "source": [
    "# Load target data \n",
    "with open(target_data) as f:\n",
    "    observation = json.load(f, object_pairs_hook=collections.OrderedDict)  "
   ]
  },
  {
   "cell_type": "code",
   "execution_count": 7,
   "id": "1b0b7f0c",
   "metadata": {
    "execution": {
     "iopub.execute_input": "2024-10-10T17:23:14.415466Z",
     "iopub.status.busy": "2024-10-10T17:23:14.415121Z",
     "iopub.status.idle": "2024-10-10T17:23:18.609902Z",
     "shell.execute_reply": "2024-10-10T17:23:18.607826Z"
    },
    "papermill": {
     "duration": 4.20302,
     "end_time": "2024-10-10T17:23:18.612066",
     "exception": false,
     "start_time": "2024-10-10T17:23:14.409046",
     "status": "completed"
    },
    "tags": []
   },
   "outputs": [
    {
     "name": "stdout",
     "output_type": "stream",
     "text": [
      "efel version: 5.5.5\n",
      "AP detection threshold is set to -10\n"
     ]
    },
    {
     "name": "stdout",
     "output_type": "stream",
     "text": [
      "- running amplitude: -0.1 on model: Saraga_2006_34_cels at: somaa(0.5)"
     ]
    },
    {
     "name": "stdout",
     "output_type": "stream",
     "text": [
      "\n"
     ]
    },
    {
     "name": "stdout",
     "output_type": "stream",
     "text": [
      "- running amplitude: 0.02 on model: Saraga_2006_34_cels at: somaa(0.5)"
     ]
    },
    {
     "name": "stdout",
     "output_type": "stream",
     "text": [
      "- running amplitude: -0.02 on model: Saraga_2006_34_cels at: somaa(0.5)"
     ]
    },
    {
     "name": "stdout",
     "output_type": "stream",
     "text": [
      "\n"
     ]
    },
    {
     "name": "stdout",
     "output_type": "stream",
     "text": [
      "\n"
     ]
    },
    {
     "name": "stdout",
     "output_type": "stream",
     "text": [
      "- running amplitude: 0.04 on model: Saraga_2006_34_cels at: somaa(0.5)"
     ]
    },
    {
     "name": "stdout",
     "output_type": "stream",
     "text": [
      "- running amplitude: 0.06 on model: Saraga_2006_34_cels at: somaa(0.5)"
     ]
    },
    {
     "name": "stdout",
     "output_type": "stream",
     "text": [
      "\n"
     ]
    },
    {
     "name": "stdout",
     "output_type": "stream",
     "text": [
      "\n"
     ]
    },
    {
     "name": "stdout",
     "output_type": "stream",
     "text": [
      "- running amplitude: 0.1 on model: Saraga_2006_34_cels at: somaa(0.5)"
     ]
    },
    {
     "name": "stdout",
     "output_type": "stream",
     "text": [
      "- running amplitude: 0.08 on model: Saraga_2006_34_cels at: somaa(0.5)"
     ]
    },
    {
     "name": "stdout",
     "output_type": "stream",
     "text": [
      "\n"
     ]
    },
    {
     "name": "stdout",
     "output_type": "stream",
     "text": [
      "- running amplitude: 0.15 on model: Saraga_2006_34_cels at: somaa(0.5)"
     ]
    },
    {
     "name": "stdout",
     "output_type": "stream",
     "text": [
      "\n"
     ]
    },
    {
     "name": "stdout",
     "output_type": "stream",
     "text": [
      "\n"
     ]
    },
    {
     "name": "stdout",
     "output_type": "stream",
     "text": [
      "- running amplitude: 0.2 on model: Saraga_2006_34_cels at: somaa(0.5)"
     ]
    },
    {
     "name": "stdout",
     "output_type": "stream",
     "text": [
      "\n"
     ]
    },
    {
     "name": "stdout",
     "output_type": "stream",
     "text": [
      "- running amplitude: 0.25 on model: Saraga_2006_34_cels at: somaa(0.5)"
     ]
    },
    {
     "name": "stdout",
     "output_type": "stream",
     "text": [
      "\n"
     ]
    },
    {
     "name": "stdout",
     "output_type": "stream",
     "text": [
      "- running amplitude: 0.3 on model: Saraga_2006_34_cels at: somaa(0.5)"
     ]
    },
    {
     "name": "stdout",
     "output_type": "stream",
     "text": [
      "\n"
     ]
    },
    {
     "name": "stdout",
     "output_type": "stream",
     "text": [
      "- running amplitude: 0.35 on model: Saraga_2006_34_cels at: somaa(0.5)"
     ]
    },
    {
     "name": "stdout",
     "output_type": "stream",
     "text": [
      "\n"
     ]
    },
    {
     "name": "stdout",
     "output_type": "stream",
     "text": [
      "- running amplitude: 0.4 on model: Saraga_2006_34_cels at: somaa(0.5)"
     ]
    },
    {
     "name": "stdout",
     "output_type": "stream",
     "text": [
      "\n"
     ]
    },
    {
     "name": "stdout",
     "output_type": "stream",
     "text": [
      "- running amplitude: 0.5 on model: Saraga_2006_34_cels at: somaa(0.5)"
     ]
    },
    {
     "name": "stdout",
     "output_type": "stream",
     "text": [
      "\n"
     ]
    },
    {
     "name": "stdout",
     "output_type": "stream",
     "text": [
      "- running amplitude: 0.6 on model: Saraga_2006_34_cels at: somaa(0.5)"
     ]
    },
    {
     "name": "stdout",
     "output_type": "stream",
     "text": [
      "\n"
     ]
    },
    {
     "name": "stdout",
     "output_type": "stream",
     "text": [
      "- running amplitude: 0.7 on model: Saraga_2006_34_cels at: somaa(0.5)"
     ]
    },
    {
     "name": "stdout",
     "output_type": "stream",
     "text": [
      "\n"
     ]
    },
    {
     "name": "stdout",
     "output_type": "stream",
     "text": [
      "- running amplitude: 0.8 on model: Saraga_2006_34_cels at: somaa(0.5)"
     ]
    },
    {
     "name": "stdout",
     "output_type": "stream",
     "text": [
      "\n"
     ]
    },
    {
     "name": "stdout",
     "output_type": "stream",
     "text": [
      "- running amplitude: 0.9 on model: Saraga_2006_34_cels at: somaa(0.5)"
     ]
    },
    {
     "name": "stdout",
     "output_type": "stream",
     "text": [
      "\n"
     ]
    },
    {
     "name": "stdout",
     "output_type": "stream",
     "text": [
      "The model did not exceed the frequency threshold of 150\n",
      "Model: Saraga_2006_34_cels could not be run\n",
      "local variable 'max_firing_freq' referenced before assignment\n"
     ]
    }
   ],
   "source": [
    "# Load stimuli file\n",
    "with open(stim_data, 'r') as f:\n",
    "    config = json.load(f, object_pairs_hook=collections.OrderedDict)\n",
    "    \n",
    "# Instantiate test class   \n",
    "test = tests.SomaticFeaturesTestWithGlobalFeatures(\n",
    "    observation=observation, \n",
    "    config=config, \n",
    "    force_run=True, \n",
    "    show_plot=False, \n",
    "    save_all = True, \n",
    "    base_directory=base_directory,\n",
    "    AP_detection_thd = -10,\n",
    "    steady_state_threshold=30,\n",
    "    highfreq_firing_threshold=150)\n",
    "\n",
    "\n",
    "# Number of parallel processes\n",
    "test.npool = 10\n",
    "\n",
    "try:\n",
    "    #Run the test \n",
    "    score = test.judge(model)\n",
    "    #Summarize and print the score achieved by the model on the test using SciUnit's summarize function\n",
    "    score.summarize()\n",
    "except Exception as e:\n",
    "    print('Model: ' + model.name + ' could not be run')\n",
    "    print(e)\n",
    "    pass"
   ]
  },
  {
   "cell_type": "code",
   "execution_count": null,
   "id": "2537af7d",
   "metadata": {
    "papermill": {
     "duration": 0.005417,
     "end_time": "2024-10-10T17:23:18.625045",
     "exception": false,
     "start_time": "2024-10-10T17:23:18.619628",
     "status": "completed"
    },
    "tags": []
   },
   "outputs": [],
   "source": []
  }
 ],
 "metadata": {
  "celltoolbar": "Tags",
  "kernelspec": {
   "display_name": "Python 3 (ipykernel)",
   "language": "python",
   "name": "python3"
  },
  "language_info": {
   "codemirror_mode": {
    "name": "ipython",
    "version": 3
   },
   "file_extension": ".py",
   "mimetype": "text/x-python",
   "name": "python",
   "nbconvert_exporter": "python",
   "pygments_lexer": "ipython3",
   "version": "3.8.10"
  },
  "papermill": {
   "default_parameters": {},
   "duration": 7.423449,
   "end_time": "2024-10-10T17:23:19.154836",
   "environment_variables": {},
   "exception": null,
   "input_path": "/home/szabobogi/hippounit_standard_features/notebooks/soma_test/Saraga_2006_cels_34.ipynb",
   "output_path": "/home/szabobogi/hippounit_standard_features/notebooks/soma_test/Saraga_2006_cels_34.ipynb",
   "parameters": {
    "results_folder": "/home/szabobogi/hippounit_standard_features/validation_results_RAT/",
    "stim_data": "/home/szabobogi/BluePyEfe_standard_features/BluePyEfe/FINAL_PV_PTI_data/stim_for_validation/stim_for_validation_RAT_FINAL.json",
    "target_data": "/home/szabobogi/BluePyEfe_standard_features/BluePyEfe/FINAL_PV_PTI_data/features_for_validation/standard_features_for_validation_RAT_FINAL.json"
   },
   "start_time": "2024-10-10T17:23:11.731387",
   "version": "2.6.0"
  }
 },
 "nbformat": 4,
 "nbformat_minor": 5
}