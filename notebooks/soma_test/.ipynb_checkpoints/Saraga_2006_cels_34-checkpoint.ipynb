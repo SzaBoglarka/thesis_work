{
 "cells": [
  {
   "cell_type": "markdown",
   "id": "27fc4938",
   "metadata": {
    "tags": [
     "papermill-error-cell-tag"
    ]
   },
   "source": [
    "<span style=\"color:red; font-family:Helvetica Neue, Helvetica, Arial, sans-serif; font-size:2em;\">An Exception was encountered at '<a href=\"#papermill-error-cell\">In [6]</a>'.</span>"
   ]
  },
  {
   "cell_type": "code",
   "execution_count": 2,
   "id": "628cb48b",
   "metadata": {
    "execution": {
     "iopub.execute_input": "2024-09-16T14:11:08.933144Z",
     "iopub.status.busy": "2024-09-16T14:11:08.932817Z",
     "iopub.status.idle": "2024-09-16T14:11:10.678296Z",
     "shell.execute_reply": "2024-09-16T14:11:10.677404Z"
    },
    "papermill": {
     "duration": 1.752846,
     "end_time": "2024-09-16T14:11:10.680697",
     "exception": false,
     "start_time": "2024-09-16T14:11:08.927851",
     "status": "completed"
    },
    "tags": []
   },
   "outputs": [
    {
     "name": "stdout",
     "output_type": "stream",
     "text": [
      "8.2.3\n"
     ]
    }
   ],
   "source": [
    "from __future__ import print_function\n",
    "\n",
    "%matplotlib inline\n",
    "\n",
    "import sys\n",
    "import os\n",
    "sys.path.append(os.path.abspath(os.path.join(os.getcwd(), '..')))\n",
    "# sys.path.append(os.path.abspath(os.path.join(os.getcwd(), '..', '..')))\n",
    "from hippounit.utils import ModelLoader\n",
    "from hippounit import tests\n",
    "\n",
    "from json2html import *\n",
    "import pkg_resources\n",
    "import json\n",
    "import collections\n",
    "import numpy\n",
    "import IPython"
   ]
  },
  {
   "cell_type": "code",
   "execution_count": 3,
   "id": "f7dfe284",
   "metadata": {
    "execution": {
     "iopub.execute_input": "2024-09-16T14:11:10.687794Z",
     "iopub.status.busy": "2024-09-16T14:11:10.687193Z",
     "iopub.status.idle": "2024-09-16T14:11:10.694587Z",
     "shell.execute_reply": "2024-09-16T14:11:10.693888Z"
    },
    "papermill": {
     "duration": 0.013832,
     "end_time": "2024-09-16T14:11:10.697531",
     "exception": false,
     "start_time": "2024-09-16T14:11:10.683699",
     "status": "completed"
    },
    "tags": [
     "parameters"
    ]
   },
   "outputs": [],
   "source": [
    "# This cell should have a 'parameters' tag for papermill parameterized notebook execution\n",
    "results_folder = 'path_to_base_directory'     # MOUSE or RAT\n",
    "target_data = 'path_to_target_data'           # MOUSE or RAT\n",
    "stim_data = 'path_to_stim_file'               # MOUSE or RAT"
   ]
  },
  {
   "cell_type": "code",
   "execution_count": 1,
   "id": "d50e7790",
   "metadata": {
    "execution": {
     "iopub.execute_input": "2024-09-16T14:11:08.905383Z",
     "iopub.status.busy": "2024-09-16T14:11:08.904656Z",
     "iopub.status.idle": "2024-09-16T14:11:08.919815Z",
     "shell.execute_reply": "2024-09-16T14:11:08.918816Z"
    },
    "papermill": {
     "duration": 0.024887,
     "end_time": "2024-09-16T14:11:08.923304",
     "exception": false,
     "start_time": "2024-09-16T14:11:08.898417",
     "status": "completed"
    },
    "tags": [
     "injected-parameters"
    ]
   },
   "outputs": [],
   "source": [
    "# Parameters\n",
    "results_folder = \"/home/szabobogi/hippounit_standard_features/validation_results_MOUSE/\"\n",
    "target_data = \"/home/szabobogi/BluePyEfe_standard_features/BluePyEfe/FINAL_PV_PTI_data/features_for_validation/standard_features_for_validation_MOUSE_FINAL.json\"\n",
    "stim_data = \"/home/szabobogi/BluePyEfe_standard_features/BluePyEfe/FINAL_PV_PTI_data/stim_for_validation/stim_for_validation_MOUSE_FINAL.json\"\n"
   ]
  },
  {
   "cell_type": "code",
   "execution_count": 4,
   "id": "795a6454",
   "metadata": {
    "execution": {
     "iopub.execute_input": "2024-09-16T14:11:10.702904Z",
     "iopub.status.busy": "2024-09-16T14:11:10.702623Z",
     "iopub.status.idle": "2024-09-16T14:11:10.707113Z",
     "shell.execute_reply": "2024-09-16T14:11:10.706325Z"
    },
    "papermill": {
     "duration": 0.01078,
     "end_time": "2024-09-16T14:11:10.710303",
     "exception": false,
     "start_time": "2024-09-16T14:11:10.699523",
     "status": "completed"
    },
    "tags": []
   },
   "outputs": [
    {
     "name": "stdout",
     "output_type": "stream",
     "text": [
      "target_data path_to_target_data\n"
     ]
    }
   ],
   "source": [
    "print(\"target_data:\", target_data)"
   ]
  },
  {
   "cell_type": "markdown",
   "id": "3e1617f5",
   "metadata": {
    "papermill": {
     "duration": 0.002383,
     "end_time": "2024-09-16T14:11:10.715057",
     "exception": false,
     "start_time": "2024-09-16T14:11:10.712674",
     "status": "completed"
    },
    "tags": []
   },
   "source": [
    "## Instantiating the model\n",
    "\n",
    "The ModelLoader class of HippoUnit is instantiated and the model, and simulation related parameters are set."
   ]
  },
  {
   "cell_type": "code",
   "execution_count": 5,
   "id": "72969753",
   "metadata": {
    "execution": {
     "iopub.execute_input": "2024-09-16T14:11:10.721545Z",
     "iopub.status.busy": "2024-09-16T14:11:10.721125Z",
     "iopub.status.idle": "2024-09-16T14:11:10.726418Z",
     "shell.execute_reply": "2024-09-16T14:11:10.725664Z"
    },
    "papermill": {
     "duration": 0.011664,
     "end_time": "2024-09-16T14:11:10.729164",
     "exception": false,
     "start_time": "2024-09-16T14:11:10.717500",
     "status": "completed"
    },
    "tags": []
   },
   "outputs": [],
   "source": [
    "# path to mod files\n",
    "mod_files_path = \"/home/szabobogi/BC_modells/CA1_Saraga_2006/\"\n",
    "\n",
    "#all the outputs will be saved here. It will be an argument to the test.\n",
    "base_directory = results_folder\n",
    "\n",
    "#Load cell model\n",
    "model = ModelLoader(mod_files_path = mod_files_path )\n",
    "\n",
    "# outputs will be saved in subfolders named like this:\n",
    "model.name=\"Saraga_2006_34_cels\"\n",
    "\n",
    "# path to hoc file\n",
    "# the model must not display any GUI!!\n",
    "model.hocpath = \"/home/szabobogi/BC_modells/CA1_Saraga_2006/cella.hoc\"\n",
    "\n",
    "# If the hoc file doesn't contain a template, this must be None (the default value is None)\n",
    "model.template_name = None\n",
    "\n",
    "# model.SomaSecList_name should be None, if there is no Section List in the model for the soma, or if the name of the soma section is given by setting model.soma (the default value is None)\n",
    "model.SomaSecList_name = None\n",
    "# if the soma is not in a section list or to use a specific somatic section, add its name here:\n",
    "model.soma = \"somaa\"\n",
    "\n",
    "# It is important to set the v_init and the celsius parameters of the simulations here,\n",
    "# as if they are only set in the model's files, they will be overwritten with the default values of the ModelLoader class.\n",
    "# default values: v_init = -70, celsius = 34 \n",
    "model.v_init = -65\n",
    "#model.dt = 0.1\n",
    "\n"
   ]
  },
  {
   "cell_type": "markdown",
   "id": "9adeae70",
   "metadata": {
    "papermill": {
     "duration": 0.002819,
     "end_time": "2024-09-16T14:11:10.734225",
     "exception": false,
     "start_time": "2024-09-16T14:11:10.731406",
     "status": "completed"
    },
    "tags": []
   },
   "source": [
    "## Instantiating and running the tests of HippoUnit on the model\n",
    "\n",
    "At the end of each test, the user is provided with a textual summary of the score and the path to related output files generated by the tests."
   ]
  },
  {
   "cell_type": "markdown",
   "id": "f8485e57",
   "metadata": {
    "papermill": {
     "duration": 0.002862,
     "end_time": "2024-09-16T14:11:10.739804",
     "exception": false,
     "start_time": "2024-09-16T14:11:10.736942",
     "status": "completed"
    },
    "tags": []
   },
   "source": [
    "### Somatic Features Test - with global features\n",
    "\n",
    "It evaluates the model against experimental eFEL (https://github.com/BlueBrain/eFEL) features under somatic current injection using standardized current amplitudes. "
   ]
  },
  {
   "cell_type": "markdown",
   "id": "1abbf120",
   "metadata": {
    "tags": [
     "papermill-error-cell-tag"
    ]
   },
   "source": [
    "<span id=\"papermill-error-cell\" style=\"color:red; font-family:Helvetica Neue, Helvetica, Arial, sans-serif; font-size:2em;\">Execution using papermill encountered an exception here and stopped:</span>"
   ]
  },
  {
   "cell_type": "code",
   "execution_count": 6,
   "id": "4532d7d8",
   "metadata": {
    "execution": {
     "iopub.execute_input": "2024-09-16T14:11:10.745439Z",
     "iopub.status.busy": "2024-09-16T14:11:10.745195Z",
     "iopub.status.idle": "2024-09-16T14:11:11.080197Z",
     "shell.execute_reply": "2024-09-16T14:11:11.079132Z"
    },
    "papermill": {
     "duration": 0.34186,
     "end_time": "2024-09-16T14:11:11.083681",
     "exception": true,
     "start_time": "2024-09-16T14:11:10.741821",
     "status": "failed"
    },
    "tags": []
   },
   "outputs": [
    {
     "ename": "FileNotFoundError",
     "evalue": "[Errno 2] No such file or directory: 'path_to_target_data'",
     "output_type": "error",
     "traceback": [
      "\u001b[0;31m---------------------------------------------------------------------------\u001b[0m",
      "\u001b[0;31mFileNotFoundError\u001b[0m                         Traceback (most recent call last)",
      "Cell \u001b[0;32mIn[6], line 2\u001b[0m\n\u001b[1;32m      1\u001b[0m \u001b[38;5;66;03m# Load target data \u001b[39;00m\n\u001b[0;32m----> 2\u001b[0m \u001b[38;5;28;01mwith\u001b[39;00m \u001b[38;5;28;43mopen\u001b[39;49m\u001b[43m(\u001b[49m\u001b[43mtarget_data\u001b[49m\u001b[43m)\u001b[49m \u001b[38;5;28;01mas\u001b[39;00m f:\n\u001b[1;32m      3\u001b[0m     observation \u001b[38;5;241m=\u001b[39m json\u001b[38;5;241m.\u001b[39mload(f, object_pairs_hook\u001b[38;5;241m=\u001b[39mcollections\u001b[38;5;241m.\u001b[39mOrderedDict)  \n",
      "File \u001b[0;32m~/hippounit_standard_features/venv/lib/python3.8/site-packages/IPython/core/interactiveshell.py:284\u001b[0m, in \u001b[0;36m_modified_open\u001b[0;34m(file, *args, **kwargs)\u001b[0m\n\u001b[1;32m    277\u001b[0m \u001b[38;5;28;01mif\u001b[39;00m file \u001b[38;5;129;01min\u001b[39;00m {\u001b[38;5;241m0\u001b[39m, \u001b[38;5;241m1\u001b[39m, \u001b[38;5;241m2\u001b[39m}:\n\u001b[1;32m    278\u001b[0m     \u001b[38;5;28;01mraise\u001b[39;00m \u001b[38;5;167;01mValueError\u001b[39;00m(\n\u001b[1;32m    279\u001b[0m         \u001b[38;5;124mf\u001b[39m\u001b[38;5;124m\"\u001b[39m\u001b[38;5;124mIPython won\u001b[39m\u001b[38;5;124m'\u001b[39m\u001b[38;5;124mt let you open fd=\u001b[39m\u001b[38;5;132;01m{\u001b[39;00mfile\u001b[38;5;132;01m}\u001b[39;00m\u001b[38;5;124m by default \u001b[39m\u001b[38;5;124m\"\u001b[39m\n\u001b[1;32m    280\u001b[0m         \u001b[38;5;124m\"\u001b[39m\u001b[38;5;124mas it is likely to crash IPython. If you know what you are doing, \u001b[39m\u001b[38;5;124m\"\u001b[39m\n\u001b[1;32m    281\u001b[0m         \u001b[38;5;124m\"\u001b[39m\u001b[38;5;124myou can use builtins\u001b[39m\u001b[38;5;124m'\u001b[39m\u001b[38;5;124m open.\u001b[39m\u001b[38;5;124m\"\u001b[39m\n\u001b[1;32m    282\u001b[0m     )\n\u001b[0;32m--> 284\u001b[0m \u001b[38;5;28;01mreturn\u001b[39;00m \u001b[43mio_open\u001b[49m\u001b[43m(\u001b[49m\u001b[43mfile\u001b[49m\u001b[43m,\u001b[49m\u001b[43m \u001b[49m\u001b[38;5;241;43m*\u001b[39;49m\u001b[43margs\u001b[49m\u001b[43m,\u001b[49m\u001b[43m \u001b[49m\u001b[38;5;241;43m*\u001b[39;49m\u001b[38;5;241;43m*\u001b[39;49m\u001b[43mkwargs\u001b[49m\u001b[43m)\u001b[49m\n",
      "\u001b[0;31mFileNotFoundError\u001b[0m: [Errno 2] No such file or directory: 'path_to_target_data'"
     ]
    }
   ],
   "source": [
    "# Load target data \n",
    "with open(target_data) as f:\n",
    "    observation = json.load(f, object_pairs_hook=collections.OrderedDict)  "
   ]
  },
  {
   "cell_type": "code",
   "execution_count": null,
   "id": "1b0b7f0c",
   "metadata": {
    "papermill": {
     "duration": null,
     "end_time": null,
     "exception": null,
     "start_time": null,
     "status": "pending"
    },
    "tags": []
   },
   "outputs": [],
   "source": [
    "# Load stimuli file\n",
    "with open(stim_data, 'r') as f:\n",
    "    config = json.load(f, object_pairs_hook=collections.OrderedDict)\n",
    "    \n",
    "# Instantiate test class   \n",
    "test = tests.SomaticFeaturesTestWithGlobalFeatures(\n",
    "    observation=observation, \n",
    "    config=config, \n",
    "    force_run=True, \n",
    "    show_plot=False, \n",
    "    save_all = True, \n",
    "    base_directory=base_directory,\n",
    "    AP_detection_thd = -10,\n",
    "    steady_state_threshold=30,\n",
    "    highfreq_firing_threshold=150)\n",
    "\n",
    "\n",
    "# Number of parallel processes\n",
    "test.npool = 10\n",
    "\n",
    "try:\n",
    "    #Run the test \n",
    "    score = test.judge(model)\n",
    "    #Summarize and print the score achieved by the model on the test using SciUnit's summarize function\n",
    "    score.summarize()\n",
    "except Exception as e:\n",
    "    print('Model: ' + model.name + ' could not be run')\n",
    "    print(e)\n",
    "    pass"
   ]
  },
  {
   "cell_type": "code",
   "execution_count": null,
   "id": "2537af7d",
   "metadata": {
    "papermill": {
     "duration": null,
     "end_time": null,
     "exception": null,
     "start_time": null,
     "status": "pending"
    },
    "tags": []
   },
   "outputs": [],
   "source": []
  }
 ],
 "metadata": {
  "celltoolbar": "Tags",
  "kernelspec": {
   "display_name": "Python 3 (ipykernel)",
   "language": "python",
   "name": "python3"
  },
  "language_info": {
   "codemirror_mode": {
    "name": "ipython",
    "version": 3
   },
   "file_extension": ".py",
   "mimetype": "text/x-python",
   "name": "python",
   "nbconvert_exporter": "python",
   "pygments_lexer": "ipython3",
   "version": "3.8.10"
  },
  "papermill": {
   "default_parameters": {},
   "duration": 3.678881,
   "end_time": "2024-09-16T14:11:11.610421",
   "environment_variables": {},
   "exception": true,
   "input_path": "/home/szabobogi/hippounit_standard_features/notebooks/soma_test/Saraga_2006_cels_34.ipynb",
   "output_path": "/home/szabobogi/hippounit_standard_features/notebooks/soma_test/Saraga_2006_cels_34.ipynb",
   "parameters": {
    "results_folder": "/home/szabobogi/hippounit_standard_features/validation_results_MOUSE/",
    "stim_data": "/home/szabobogi/BluePyEfe_standard_features/BluePyEfe/FINAL_PV_PTI_data/stim_for_validation/stim_for_validation_MOUSE_FINAL.json",
    "target_data": "/home/szabobogi/BluePyEfe_standard_features/BluePyEfe/FINAL_PV_PTI_data/features_for_validation/standard_features_for_validation_MOUSE_FINAL.json"
   },
   "start_time": "2024-09-16T14:11:07.931540",
   "version": "2.6.0"
  }
 },
 "nbformat": 4,
 "nbformat_minor": 5
}
