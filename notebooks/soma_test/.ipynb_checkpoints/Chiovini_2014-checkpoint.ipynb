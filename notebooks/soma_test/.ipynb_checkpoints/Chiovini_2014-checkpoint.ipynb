{
 "cells": [
  {
   "cell_type": "code",
   "execution_count": 1,
   "id": "951bbf5d",
   "metadata": {
    "execution": {
     "iopub.execute_input": "2024-12-04T18:03:05.001111Z",
     "iopub.status.busy": "2024-12-04T18:03:05.000335Z",
     "iopub.status.idle": "2024-12-04T18:03:06.961783Z",
     "shell.execute_reply": "2024-12-04T18:03:06.960831Z"
    },
    "papermill": {
     "duration": 1.973637,
     "end_time": "2024-12-04T18:03:06.965863",
     "exception": false,
     "start_time": "2024-12-04T18:03:04.992226",
     "status": "completed"
    },
    "tags": []
   },
   "outputs": [
    {
     "name": "stdout",
     "output_type": "stream",
     "text": [
      "8.2.3\n"
     ]
    }
   ],
   "source": [
    "from __future__ import print_function\n",
    "\n",
    "%matplotlib inline\n",
    "\n",
    "import sys\n",
    "import os\n",
    "sys.path.append(os.path.abspath(os.path.join(os.getcwd(), '..')))\n",
    "# sys.path.append(os.path.abspath(os.path.join(os.getcwd(), '..', '..')))\n",
    "from hippounit.utils import ModelLoader\n",
    "from hippounit import tests\n",
    "\n",
    "from json2html import *\n",
    "import pkg_resources\n",
    "import json\n",
    "import collections\n",
    "import numpy\n",
    "import IPython"
   ]
  },
  {
   "cell_type": "code",
   "execution_count": 2,
   "id": "092abf7b",
   "metadata": {
    "execution": {
     "iopub.execute_input": "2024-12-04T18:03:06.975630Z",
     "iopub.status.busy": "2024-12-04T18:03:06.975012Z",
     "iopub.status.idle": "2024-12-04T18:03:06.984932Z",
     "shell.execute_reply": "2024-12-04T18:03:06.984162Z"
    },
    "papermill": {
     "duration": 0.017502,
     "end_time": "2024-12-04T18:03:06.987855",
     "exception": false,
     "start_time": "2024-12-04T18:03:06.970353",
     "status": "completed"
    },
    "tags": [
     "parameters"
    ]
   },
   "outputs": [],
   "source": [
    "# This cell should have a 'parameters' tag for papermill parameterized notebook execution\n",
    "results_folder = 'path_to_base_directory'     # MOUSE or RAT\n",
    "target_data = 'path_to_target_data'           # MOUSE or RAT\n",
    "stim_data = 'path_to_stim_file'               # MOUSE or RAT"
   ]
  },
  {
   "cell_type": "code",
   "execution_count": 3,
   "id": "2d9367e1",
   "metadata": {
    "execution": {
     "iopub.execute_input": "2024-12-04T18:03:06.998628Z",
     "iopub.status.busy": "2024-12-04T18:03:06.998124Z",
     "iopub.status.idle": "2024-12-04T18:03:07.004606Z",
     "shell.execute_reply": "2024-12-04T18:03:07.003356Z"
    },
    "papermill": {
     "duration": 0.015045,
     "end_time": "2024-12-04T18:03:07.007305",
     "exception": false,
     "start_time": "2024-12-04T18:03:06.992260",
     "status": "completed"
    },
    "tags": [
     "injected-parameters"
    ]
   },
   "outputs": [],
   "source": [
    "# Parameters\n",
    "results_folder = \"../validation_results_RAT/\"\n",
    "target_data = \"../data_config/features_for_validation/standard_features_for_validation_RAT_FINAL.json\"\n",
    "stim_data = \"../data_config/stim_for_validation/stim_for_validation_RAT_FINAL.json\"\n"
   ]
  },
  {
   "cell_type": "markdown",
   "id": "d51fbd24",
   "metadata": {
    "papermill": {
     "duration": 0.004787,
     "end_time": "2024-12-04T18:03:07.016871",
     "exception": false,
     "start_time": "2024-12-04T18:03:07.012084",
     "status": "completed"
    },
    "tags": []
   },
   "source": [
    "## Instantiating the model\n",
    "\n",
    "The ModelLoader class of HippoUnit is instantiated and the model, and simulation related parameters are set."
   ]
  },
  {
   "cell_type": "code",
   "execution_count": 4,
   "id": "d901e68a",
   "metadata": {
    "execution": {
     "iopub.execute_input": "2024-12-04T18:03:07.024470Z",
     "iopub.status.busy": "2024-12-04T18:03:07.023948Z",
     "iopub.status.idle": "2024-12-04T18:03:07.496463Z",
     "shell.execute_reply": "2024-12-04T18:03:07.494896Z"
    },
    "papermill": {
     "duration": 0.480757,
     "end_time": "2024-12-04T18:03:07.500214",
     "exception": false,
     "start_time": "2024-12-04T18:03:07.019457",
     "status": "completed"
    },
    "tags": []
   },
   "outputs": [
    {
     "name": "stderr",
     "output_type": "stream",
     "text": [
      "sh: 1: cd: can't cd to ./PVIN_modells/CA1_Chiovinietal_2014_(Szabolcs)/\n"
     ]
    },
    {
     "name": "stdout",
     "output_type": "stream",
     "text": [
      "/home/szabobogi/hippounit_standard_features/notebooks\n",
      "Mod files:\n",
      "\n",
      " -> \u001b[32mCompiling\u001b[0m mod_func.cpp\n",
      " => \u001b[32mLINKING\u001b[0m shared library ./libnrnmech.so\n",
      "Successfully created x86_64/special\n"
     ]
    }
   ],
   "source": [
    "# path to mod files\n",
    "mod_files_path = \"../PVIN_modells/CA1_Chiovinietal_2014_(Szabolcs)/\"\n",
    "\n",
    "#all the outputs will be saved here. It will be an argument to the test.\n",
    "base_directory = results_folder\n",
    "\n",
    "#Load cell model\n",
    "model = ModelLoader(mod_files_path = mod_files_path )\n",
    "\n",
    "# outputs will be saved in subfolders named like this:\n",
    "model.name=\"Chiovini_2014\"\n",
    "\n",
    "# path to hoc file\n",
    "# the model must not display any GUI!!\n",
    "model.hocpath = \"../PVIN_modells/CA1_Chiovinietal_2014_(Szabolcs)/pv08d_r264.hoc\"\n",
    "\n",
    "# If the hoc file doesn't contain a template, this must be None (the default value is None)\n",
    "model.template_name = None\n",
    "\n",
    "# model.SomaSecList_name should be None, if there is no Section List in the model for the soma, or if the name of the soma section is given by setting model.soma (the default value is None)\n",
    "model.SomaSecList_name = None\n",
    "# if the soma is not in a section list or to use a specific somatic section, add its name here:\n",
    "model.soma = \"Soma\"\n",
    "\n",
    "# It is important to set the v_init and the celsius parameters of the simulations here,\n",
    "# as if they are only set in the model's files, they will be overwritten with the default values of the ModelLoader class.\n",
    "# default values: v_init = -70, celsius = 34 \n",
    "model.v_init = -65\n",
    "#model.dt = 0.1\n",
    "\n"
   ]
  },
  {
   "cell_type": "markdown",
   "id": "83ced874",
   "metadata": {
    "papermill": {
     "duration": 0.005721,
     "end_time": "2024-12-04T18:03:07.512786",
     "exception": false,
     "start_time": "2024-12-04T18:03:07.507065",
     "status": "completed"
    },
    "tags": []
   },
   "source": [
    "## Instantiating and running the tests of HippoUnit on the model\n",
    "\n",
    "At the end of each test, the user is provided with a textual summary of the score and the path to related output files generated by the tests."
   ]
  },
  {
   "cell_type": "markdown",
   "id": "fd387233",
   "metadata": {
    "papermill": {
     "duration": 0.002654,
     "end_time": "2024-12-04T18:03:07.517950",
     "exception": false,
     "start_time": "2024-12-04T18:03:07.515296",
     "status": "completed"
    },
    "tags": []
   },
   "source": [
    "### Somatic Features Test - with global features\n",
    "\n",
    "It evaluates the model against experimental eFEL (https://github.com/BlueBrain/eFEL) features under somatic current injection using standardized current amplitudes. "
   ]
  },
  {
   "cell_type": "code",
   "execution_count": 5,
   "id": "cdcfec1a",
   "metadata": {
    "execution": {
     "iopub.execute_input": "2024-12-04T18:03:07.525637Z",
     "iopub.status.busy": "2024-12-04T18:03:07.525062Z",
     "iopub.status.idle": "2024-12-04T18:03:07.534176Z",
     "shell.execute_reply": "2024-12-04T18:03:07.532878Z"
    },
    "papermill": {
     "duration": 0.01681,
     "end_time": "2024-12-04T18:03:07.537261",
     "exception": false,
     "start_time": "2024-12-04T18:03:07.520451",
     "status": "completed"
    },
    "tags": []
   },
   "outputs": [],
   "source": [
    "# Load target data \n",
    "with open(target_data) as f:\n",
    "    observation = json.load(f, object_pairs_hook=collections.OrderedDict)  "
   ]
  },
  {
   "cell_type": "code",
   "execution_count": 6,
   "id": "9511fa31",
   "metadata": {
    "execution": {
     "iopub.execute_input": "2024-12-04T18:03:07.548935Z",
     "iopub.status.busy": "2024-12-04T18:03:07.548502Z",
     "iopub.status.idle": "2024-12-04T18:03:08.144703Z",
     "shell.execute_reply": "2024-12-04T18:03:08.140764Z"
    },
    "papermill": {
     "duration": 0.606475,
     "end_time": "2024-12-04T18:03:08.148488",
     "exception": false,
     "start_time": "2024-12-04T18:03:07.542013",
     "status": "completed"
    },
    "tags": []
   },
   "outputs": [
    {
     "name": "stdout",
     "output_type": "stream",
     "text": [
      "efel version: 5.5.5\n",
      "AP detection threshold is set to -10\n"
     ]
    },
    {
     "name": "stderr",
     "output_type": "stream",
     "text": [
      "NEURON: Couldn't find: ./PVIN_modells/CA1_Chiovinietal_2014_(Szabolcs)/pv08d_r264.hoc\n"
     ]
    },
    {
     "name": "stderr",
     "output_type": "stream",
     "text": [
      "NEURON: Couldn't find: ./PVIN_modells/CA1_Chiovinietal_2014_(Szabolcs)/pv08d_r264.hoc\n"
     ]
    },
    {
     "name": "stderr",
     "output_type": "stream",
     "text": [
      " near line 0\n"
     ]
    },
    {
     "name": "stderr",
     "output_type": "stream",
     "text": [
      " near line 0\n"
     ]
    },
    {
     "name": "stderr",
     "output_type": "stream",
     "text": [
      "NEURON: Couldn't find: ./PVIN_modells/CA1_Chiovinietal_2014_(Szabolcs)/pv08d_r264.hoc\n"
     ]
    },
    {
     "name": "stderr",
     "output_type": "stream",
     "text": [
      " "
     ]
    },
    {
     "name": "stderr",
     "output_type": "stream",
     "text": [
      " "
     ]
    },
    {
     "name": "stderr",
     "output_type": "stream",
     "text": [
      "^\n"
     ]
    },
    {
     "name": "stderr",
     "output_type": "stream",
     "text": [
      " near line 0\n"
     ]
    },
    {
     "name": "stderr",
     "output_type": "stream",
     "text": [
      "^\n"
     ]
    },
    {
     "name": "stderr",
     "output_type": "stream",
     "text": [
      "NEURON: Couldn't find: ./PVIN_modells/CA1_Chiovinietal_2014_(Szabolcs)/pv08d_r264.hoc\n"
     ]
    },
    {
     "name": "stderr",
     "output_type": "stream",
     "text": [
      " "
     ]
    },
    {
     "name": "stderr",
     "output_type": "stream",
     "text": [
      " near line 0\n"
     ]
    },
    {
     "name": "stderr",
     "output_type": "stream",
     "text": [
      "^\n"
     ]
    },
    {
     "name": "stderr",
     "output_type": "stream",
     "text": [
      " "
     ]
    },
    {
     "name": "stderr",
     "output_type": "stream",
     "text": [
      "NEURON: Couldn't find: ./PVIN_modells/CA1_Chiovinietal_2014_(Szabolcs)/pv08d_r264.hoc\n"
     ]
    },
    {
     "name": "stderr",
     "output_type": "stream",
     "text": [
      "^\n"
     ]
    },
    {
     "name": "stderr",
     "output_type": "stream",
     "text": [
      "NEURON: Couldn't find: ./PVIN_modells/CA1_Chiovinietal_2014_(Szabolcs)/pv08d_r264.hoc\n"
     ]
    },
    {
     "name": "stderr",
     "output_type": "stream",
     "text": [
      " near line 0\n"
     ]
    },
    {
     "name": "stderr",
     "output_type": "stream",
     "text": [
      " near line 0\n"
     ]
    },
    {
     "name": "stderr",
     "output_type": "stream",
     "text": [
      " "
     ]
    },
    {
     "name": "stderr",
     "output_type": "stream",
     "text": [
      " "
     ]
    },
    {
     "name": "stderr",
     "output_type": "stream",
     "text": [
      "^\n"
     ]
    },
    {
     "name": "stderr",
     "output_type": "stream",
     "text": [
      "NEURON: Couldn't find: ./PVIN_modells/CA1_Chiovinietal_2014_(Szabolcs)/pv08d_r264.hoc\n"
     ]
    },
    {
     "name": "stderr",
     "output_type": "stream",
     "text": [
      "^\n"
     ]
    },
    {
     "name": "stderr",
     "output_type": "stream",
     "text": [
      " near line 0\n"
     ]
    },
    {
     "name": "stderr",
     "output_type": "stream",
     "text": [
      " "
     ]
    },
    {
     "name": "stderr",
     "output_type": "stream",
     "text": [
      "NEURON: Couldn't find: ./PVIN_modells/CA1_Chiovinietal_2014_(Szabolcs)/pv08d_r264.hoc\n"
     ]
    },
    {
     "name": "stderr",
     "output_type": "stream",
     "text": [
      "^\n"
     ]
    },
    {
     "name": "stderr",
     "output_type": "stream",
     "text": [
      " near line 0\n"
     ]
    },
    {
     "name": "stderr",
     "output_type": "stream",
     "text": [
      "NEURON: Couldn't find: ./PVIN_modells/CA1_Chiovinietal_2014_(Szabolcs)/pv08d_r264.hoc\n"
     ]
    },
    {
     "name": "stderr",
     "output_type": "stream",
     "text": [
      " "
     ]
    },
    {
     "name": "stderr",
     "output_type": "stream",
     "text": [
      " near line 0\n"
     ]
    },
    {
     "name": "stderr",
     "output_type": "stream",
     "text": [
      "^\n"
     ]
    },
    {
     "name": "stderr",
     "output_type": "stream",
     "text": [
      "NEURON: Couldn't find: ./PVIN_modells/CA1_Chiovinietal_2014_(Szabolcs)/pv08d_r264.hoc\n"
     ]
    },
    {
     "name": "stderr",
     "output_type": "stream",
     "text": [
      " "
     ]
    },
    {
     "name": "stderr",
     "output_type": "stream",
     "text": [
      "^\n"
     ]
    },
    {
     "name": "stderr",
     "output_type": "stream",
     "text": [
      " near line 0\n"
     ]
    },
    {
     "name": "stderr",
     "output_type": "stream",
     "text": [
      " "
     ]
    },
    {
     "name": "stderr",
     "output_type": "stream",
     "text": [
      "^\n"
     ]
    },
    {
     "name": "stderr",
     "output_type": "stream",
     "text": [
      "NEURON: Couldn't find: ./PVIN_modells/CA1_Chiovinietal_2014_(Szabolcs)/pv08d_r264.hoc\n"
     ]
    },
    {
     "name": "stderr",
     "output_type": "stream",
     "text": [
      " near line 0\n"
     ]
    },
    {
     "name": "stderr",
     "output_type": "stream",
     "text": [
      " "
     ]
    },
    {
     "name": "stderr",
     "output_type": "stream",
     "text": [
      "^\n"
     ]
    },
    {
     "name": "stderr",
     "output_type": "stream",
     "text": [
      "NEURON: Couldn't find: ./PVIN_modells/CA1_Chiovinietal_2014_(Szabolcs)/pv08d_r264.hoc\n"
     ]
    },
    {
     "name": "stderr",
     "output_type": "stream",
     "text": [
      " near line 0\n"
     ]
    },
    {
     "name": "stderr",
     "output_type": "stream",
     "text": [
      " "
     ]
    },
    {
     "name": "stderr",
     "output_type": "stream",
     "text": [
      "NEURON: Couldn't find: ./PVIN_modells/CA1_Chiovinietal_2014_(Szabolcs)/pv08d_r264.hoc\n"
     ]
    },
    {
     "name": "stderr",
     "output_type": "stream",
     "text": [
      "^\n"
     ]
    },
    {
     "name": "stderr",
     "output_type": "stream",
     "text": [
      " near line 0\n"
     ]
    },
    {
     "name": "stderr",
     "output_type": "stream",
     "text": [
      " "
     ]
    },
    {
     "name": "stderr",
     "output_type": "stream",
     "text": [
      "^\n"
     ]
    },
    {
     "name": "stderr",
     "output_type": "stream",
     "text": [
      "NEURON: Couldn't find: ./PVIN_modells/CA1_Chiovinietal_2014_(Szabolcs)/pv08d_r264.hoc\n"
     ]
    },
    {
     "name": "stderr",
     "output_type": "stream",
     "text": [
      " near line 0\n"
     ]
    },
    {
     "name": "stderr",
     "output_type": "stream",
     "text": [
      " "
     ]
    },
    {
     "name": "stderr",
     "output_type": "stream",
     "text": [
      "^\n"
     ]
    },
    {
     "name": "stderr",
     "output_type": "stream",
     "text": [
      "NEURON: Couldn't find: ./PVIN_modells/CA1_Chiovinietal_2014_(Szabolcs)/pv08d_r264.hoc\n"
     ]
    },
    {
     "name": "stderr",
     "output_type": "stream",
     "text": [
      " near line 0\n"
     ]
    },
    {
     "name": "stderr",
     "output_type": "stream",
     "text": [
      " "
     ]
    },
    {
     "name": "stderr",
     "output_type": "stream",
     "text": [
      "^\n"
     ]
    },
    {
     "name": "stderr",
     "output_type": "stream",
     "text": [
      "NEURON: Couldn't find: ./PVIN_modells/CA1_Chiovinietal_2014_(Szabolcs)/pv08d_r264.hoc\n"
     ]
    },
    {
     "name": "stderr",
     "output_type": "stream",
     "text": [
      " near line 0\n"
     ]
    },
    {
     "name": "stderr",
     "output_type": "stream",
     "text": [
      " "
     ]
    },
    {
     "name": "stderr",
     "output_type": "stream",
     "text": [
      "^\n"
     ]
    },
    {
     "name": "stderr",
     "output_type": "stream",
     "text": [
      " "
     ]
    },
    {
     "name": "stderr",
     "output_type": "stream",
     "text": [
      "NEURON: Couldn't find: ./PVIN_modells/CA1_Chiovinietal_2014_(Szabolcs)/pv08d_r264.hoc\n"
     ]
    },
    {
     "name": "stderr",
     "output_type": "stream",
     "text": [
      " near line 0\n"
     ]
    },
    {
     "name": "stderr",
     "output_type": "stream",
     "text": [
      "^\n"
     ]
    },
    {
     "name": "stderr",
     "output_type": "stream",
     "text": [
      "NEURON: Couldn't find: ./PVIN_modells/CA1_Chiovinietal_2014_(Szabolcs)/pv08d_r264.hoc\n"
     ]
    },
    {
     "name": "stderr",
     "output_type": "stream",
     "text": [
      " near line 0\n"
     ]
    },
    {
     "name": "stderr",
     "output_type": "stream",
     "text": [
      " "
     ]
    },
    {
     "name": "stderr",
     "output_type": "stream",
     "text": [
      "^\n"
     ]
    },
    {
     "name": "stdout",
     "output_type": "stream",
     "text": [
      "Model: Chiovini_2014 could not be run\n",
      "'hoc.HocObject' object has no attribute 'Soma'\n"
     ]
    }
   ],
   "source": [
    "# Load stimuli file\n",
    "with open(stim_data, 'r') as f:\n",
    "    config = json.load(f, object_pairs_hook=collections.OrderedDict)\n",
    "    \n",
    "# Instantiate test class   \n",
    "test = tests.SomaticFeaturesTestWithGlobalFeatures(\n",
    "    observation=observation, \n",
    "    config=config, \n",
    "    force_run=True, \n",
    "    show_plot=False, \n",
    "    save_all = True, \n",
    "    base_directory=base_directory,\n",
    "    AP_detection_thd = -10,\n",
    "    steady_state_threshold=30,\n",
    "    highfreq_firing_threshold=150)\n",
    "\n",
    "\n",
    "# Number of parallel processes\n",
    "test.npool = 10\n",
    "\n",
    "try:\n",
    "    #Run the test \n",
    "    score = test.judge(model)\n",
    "    #Summarize and print the score achieved by the model on the test using SciUnit's summarize function\n",
    "    score.summarize()\n",
    "except Exception as e:\n",
    "    print('Model: ' + model.name + ' could not be run')\n",
    "    print(e)\n",
    "    pass"
   ]
  },
  {
   "cell_type": "code",
   "execution_count": null,
   "id": "fdc06af0",
   "metadata": {
    "papermill": {
     "duration": 0.007197,
     "end_time": "2024-12-04T18:03:08.169157",
     "exception": false,
     "start_time": "2024-12-04T18:03:08.161960",
     "status": "completed"
    },
    "tags": []
   },
   "outputs": [],
   "source": []
  }
 ],
 "metadata": {
  "celltoolbar": "Tags",
  "kernelspec": {
   "display_name": "Python 3 (ipykernel)",
   "language": "python",
   "name": "python3"
  },
  "language_info": {
   "codemirror_mode": {
    "name": "ipython",
    "version": 3
   },
   "file_extension": ".py",
   "mimetype": "text/x-python",
   "name": "python",
   "nbconvert_exporter": "python",
   "pygments_lexer": "ipython3",
   "version": "3.8.10"
  },
  "papermill": {
   "default_parameters": {},
   "duration": 6.762301,
   "end_time": "2024-12-04T18:03:10.804042",
   "environment_variables": {},
   "exception": null,
   "input_path": "./soma_test/Chiovini_2014.ipynb",
   "output_path": "./soma_test/Chiovini_2014.ipynb",
   "parameters": {
    "results_folder": "../validation_results_RAT/",
    "stim_data": "../data_config/stim_for_validation/stim_for_validation_RAT_FINAL.json",
    "target_data": "../data_config/features_for_validation/standard_features_for_validation_RAT_FINAL.json"
   },
   "start_time": "2024-12-04T18:03:04.041741",
   "version": "2.6.0"
  }
 },
 "nbformat": 4,
 "nbformat_minor": 5
}
